{
  "cells": [
    {
      "cell_type": "markdown",
      "metadata": {
        "id": "Yd4HFBKe5JV_"
      },
      "source": [
        "# Importing  necessary liberaries"
      ]
    },
    {
      "cell_type": "code",
      "execution_count": 1,
      "metadata": {
        "id": "MAtnSqNQAPdh"
      },
      "outputs": [],
      "source": [
        "# !pip install pyspark"
      ]
    },
    {
      "cell_type": "code",
      "execution_count": 2,
      "metadata": {
        "id": "ugIDizZP6AkW"
      },
      "outputs": [],
      "source": [
        "import pandas as pd\n",
        "import numpy as np\n",
        "import matplotlib.pyplot as plt\n",
        "import seaborn as sns\n",
        "import warnings\n",
        "warnings.filterwarnings(\"ignore\")\n",
        "from pyspark.sql import SparkSession\n",
        "from pyspark.sql.functions import col,year, month, dayofmonth, date_format,hour,to_timestamp\n",
        "from pyspark.sql.types import *\n",
        "from google.colab import drive\n",
        "import zipfile\n",
        "from pyspark.ml.feature import VectorAssembler\n",
        "from pyspark.ml.regression import LinearRegression,RandomForestRegressor\n",
        "from pyspark.ml.evaluation import RegressionEvaluator\n",
        "from pyspark.ml import Pipeline\n",
        "from pyspark.ml.tuning import CrossValidator, ParamGridBuilder\n",
        "from pyspark.ml.evaluation import RegressionEvaluator\n",
        "import time\n"
      ]
    },
    {
      "cell_type": "code",
      "execution_count": 3,
      "metadata": {
        "colab": {
          "base_uri": "https://localhost:8080/",
          "height": 219
        },
        "id": "kLtj2l5xAH3Z",
        "outputId": "474e6b30-3b2d-496a-8fb1-ffa92c711710"
      },
      "outputs": [
        {
          "output_type": "execute_result",
          "data": {
            "text/plain": [
              "<pyspark.sql.session.SparkSession at 0x78e219171c60>"
            ],
            "text/html": [
              "\n",
              "            <div>\n",
              "                <p><b>SparkSession - in-memory</b></p>\n",
              "                \n",
              "        <div>\n",
              "            <p><b>SparkContext</b></p>\n",
              "\n",
              "            <p><a href=\"http://39049cd1bf2f:4040\">Spark UI</a></p>\n",
              "\n",
              "            <dl>\n",
              "              <dt>Version</dt>\n",
              "                <dd><code>v3.5.3</code></dd>\n",
              "              <dt>Master</dt>\n",
              "                <dd><code>local[*]</code></dd>\n",
              "              <dt>AppName</dt>\n",
              "                <dd><code>NYC Taxi Fare Predction</code></dd>\n",
              "            </dl>\n",
              "        </div>\n",
              "        \n",
              "            </div>\n",
              "        "
            ]
          },
          "metadata": {},
          "execution_count": 3
        }
      ],
      "source": [
        "# creating the spark session\n",
        "spark=SparkSession.builder.appName(\"NYC Taxi Fare Predction\").getOrCreate()\n",
        "spark"
      ]
    },
    {
      "cell_type": "code",
      "execution_count": 4,
      "metadata": {
        "id": "FrTe2-2XpZlJ"
      },
      "outputs": [],
      "source": [
        "spark.conf.set(\"spark.sql.legacy.timeParserPolicy\", \"LEGACY\")"
      ]
    },
    {
      "cell_type": "markdown",
      "metadata": {
        "id": "4HQkivv-5JfE"
      },
      "source": [
        "# Data Loading and Inspection"
      ]
    },
    {
      "cell_type": "code",
      "execution_count": 5,
      "metadata": {
        "colab": {
          "base_uri": "https://localhost:8080/"
        },
        "id": "3okKAyw0C9B1",
        "outputId": "9907e29b-7b0f-4afe-a53f-dce447d9d6d6"
      },
      "outputs": [
        {
          "output_type": "stream",
          "name": "stdout",
          "text": [
            "Drive already mounted at /content/drive; to attempt to forcibly remount, call drive.mount(\"/content/drive\", force_remount=True).\n"
          ]
        }
      ],
      "source": [
        "drive.mount('/content/drive')"
      ]
    },
    {
      "cell_type": "code",
      "execution_count": 6,
      "metadata": {
        "id": "waiNqK-K8woa"
      },
      "outputs": [],
      "source": [
        "# variables\n",
        "zip_path = \"/content/drive/MyDrive/NYC_taxi_data/new-york-city-taxi-fare-prediction.zip\"\n",
        "extract_path = \"/content/drive/MyDrive/NYC_taxi_data/\"\n",
        "train_file_path = \"/content/drive/MyDrive/NYC_taxi_data/train.csv\"\n",
        "test_file_path = \"/content/drive/MyDrive/NYC_taxi_data/test.csv\"\n",
        "number_of_rows = 200000\n",
        "min_latitude, max_latitude = -90, 90\n",
        "min_longitude, max_longitude = -180, 180"
      ]
    },
    {
      "cell_type": "code",
      "execution_count": 7,
      "metadata": {
        "id": "6zz4tezxNn4O"
      },
      "outputs": [],
      "source": [
        "# function to extract zip file\n",
        "def unzip_file(zip_path, extract_path):\n",
        "    with zipfile.ZipFile(zip_path, 'r') as zip_ref:\n",
        "        zip_ref.extractall(extract_path)\n",
        "        print(\"File unzipped successfully\")\n",
        "\n",
        "# unzip_file(zip_path, extract_path)"
      ]
    },
    {
      "cell_type": "code",
      "execution_count": 8,
      "metadata": {
        "colab": {
          "base_uri": "https://localhost:8080/"
        },
        "id": "hO_1syW3C_5g",
        "outputId": "9b757286-a476-4714-aca3-65a59007117a"
      },
      "outputs": [
        {
          "output_type": "stream",
          "name": "stdout",
          "text": [
            "GCP-Coupons-Instructions.rtf  new-york-city-taxi-fare-prediction.zip  test.csv\n",
            "lr_model\t\t      sample_submission.csv\t\t      train.csv\n"
          ]
        }
      ],
      "source": [
        "!ls /content/drive/MyDrive/NYC_taxi_data/"
      ]
    },
    {
      "cell_type": "code",
      "execution_count": 9,
      "metadata": {
        "colab": {
          "base_uri": "https://localhost:8080/"
        },
        "id": "yZocIaO4D3cQ",
        "outputId": "0b5a29e7-b6a5-4ed3-f65d-3c59936c2065"
      },
      "outputs": [
        {
          "output_type": "stream",
          "name": "stdout",
          "text": [
            "Time taken to load the data: 199.40736651420593 seconds\n"
          ]
        }
      ],
      "source": [
        "# read csv file from google drive and show 10 rows from the dataframe\n",
        "start_time = time.time()\n",
        "df = spark.read.csv(train_file_path, header=True, inferSchema=True).limit(number_of_rows)\n",
        "end_time = time.time()\n",
        "print(f\"Time taken to load the data: {end_time - start_time} seconds\")"
      ]
    },
    {
      "cell_type": "code",
      "source": [
        "df_new = df.withColumn(\"pickup_datetime\", to_timestamp(col(\"pickup_datetime\"), \"yyyy-MM-dd HH:mm:ss\"))"
      ],
      "metadata": {
        "id": "xeMkR9jQs5Ep"
      },
      "execution_count": 10,
      "outputs": []
    },
    {
      "cell_type": "code",
      "source": [
        "df_new.show(10)"
      ],
      "metadata": {
        "colab": {
          "base_uri": "https://localhost:8080/"
        },
        "id": "oZLdUY0ptKXL",
        "outputId": "b6d262b5-2d4e-471b-bbab-46a1aa2a76d9"
      },
      "execution_count": 11,
      "outputs": [
        {
          "output_type": "stream",
          "name": "stdout",
          "text": [
            "+--------------------+-----------+-------------------+----------------+---------------+-----------------+----------------+---------------+\n",
            "|                 key|fare_amount|    pickup_datetime|pickup_longitude|pickup_latitude|dropoff_longitude|dropoff_latitude|passenger_count|\n",
            "+--------------------+-----------+-------------------+----------------+---------------+-----------------+----------------+---------------+\n",
            "|2009-06-15 17:26:...|        4.5|2009-06-15 17:26:21|      -73.844311|      40.721319|        -73.84161|       40.712278|              1|\n",
            "|2010-01-05 16:52:...|       16.9|2010-01-05 16:52:16|      -74.016048|      40.711303|       -73.979268|       40.782004|              1|\n",
            "|2011-08-18 00:35:...|        5.7|2011-08-18 00:35:00|      -73.982738|       40.76127|       -73.991242|       40.750562|              2|\n",
            "|2012-04-21 04:30:...|        7.7|2012-04-21 04:30:42|       -73.98713|      40.733143|       -73.991567|       40.758092|              1|\n",
            "|2010-03-09 07:51:...|        5.3|2010-03-09 07:51:00|      -73.968095|      40.768008|       -73.956655|       40.783762|              1|\n",
            "|2011-01-06 09:50:...|       12.1|2011-01-06 09:50:45|      -74.000964|       40.73163|       -73.972892|       40.758233|              1|\n",
            "|2012-11-20 20:35:...|        7.5|2012-11-20 20:35:00|      -73.980002|      40.751662|       -73.973802|       40.764842|              1|\n",
            "|2012-01-04 17:22:...|       16.5|2012-01-04 17:22:00|        -73.9513|      40.774138|       -73.990095|       40.751048|              1|\n",
            "|2012-12-03 13:10:...|        9.0|2012-12-03 13:10:00|      -74.006462|      40.726713|       -73.993078|       40.731628|              1|\n",
            "|2009-09-02 01:11:...|        8.9|2009-09-02 01:11:00|      -73.980658|      40.733873|        -73.99154|       40.758138|              2|\n",
            "+--------------------+-----------+-------------------+----------------+---------------+-----------------+----------------+---------------+\n",
            "only showing top 10 rows\n",
            "\n"
          ]
        }
      ]
    },
    {
      "cell_type": "code",
      "execution_count": 12,
      "metadata": {
        "colab": {
          "base_uri": "https://localhost:8080/"
        },
        "id": "2Pg7amvTEKrw",
        "outputId": "0b189b8f-b382-41af-e55d-0121c9a5328f"
      },
      "outputs": [
        {
          "output_type": "stream",
          "name": "stdout",
          "text": [
            "root\n",
            " |-- key: string (nullable = true)\n",
            " |-- fare_amount: double (nullable = true)\n",
            " |-- pickup_datetime: timestamp (nullable = true)\n",
            " |-- pickup_longitude: double (nullable = true)\n",
            " |-- pickup_latitude: double (nullable = true)\n",
            " |-- dropoff_longitude: double (nullable = true)\n",
            " |-- dropoff_latitude: double (nullable = true)\n",
            " |-- passenger_count: integer (nullable = true)\n",
            "\n"
          ]
        }
      ],
      "source": [
        "# check for the columns, data types and if there are any null values\n",
        "df_new.printSchema()"
      ]
    },
    {
      "cell_type": "code",
      "execution_count": 13,
      "metadata": {
        "colab": {
          "base_uri": "https://localhost:8080/"
        },
        "id": "dpu0_dGREyGN",
        "outputId": "43693332-c327-4b45-ba37-a4d5b02dee66"
      },
      "outputs": [
        {
          "output_type": "stream",
          "name": "stdout",
          "text": [
            "Number of partitions: 1\n"
          ]
        }
      ],
      "source": [
        "# check for the number of partitons\n",
        "num_partitions = df_new.rdd.getNumPartitions()\n",
        "print(\"Number of partitions:\", num_partitions)"
      ]
    },
    {
      "cell_type": "code",
      "source": [
        "# repartitioning the dataframe\n",
        "df_new = df_new.repartition(10)"
      ],
      "metadata": {
        "id": "wfPr8jDcy3HX"
      },
      "execution_count": 14,
      "outputs": []
    },
    {
      "cell_type": "code",
      "execution_count": 15,
      "metadata": {
        "colab": {
          "base_uri": "https://localhost:8080/"
        },
        "id": "SFrH42x8FqvM",
        "outputId": "a656b893-0d78-45f1-c5f3-e343f5e49bd6"
      },
      "outputs": [
        {
          "output_type": "stream",
          "name": "stdout",
          "text": [
            "Number of rows: 200000\n"
          ]
        }
      ],
      "source": [
        "# count number of rows\n",
        "row_count = df_new.count()\n",
        "print(\"Number of rows:\", row_count)"
      ]
    },
    {
      "cell_type": "code",
      "execution_count": 16,
      "metadata": {
        "colab": {
          "base_uri": "https://localhost:8080/"
        },
        "id": "yjeDPYuBGvrh",
        "outputId": "de230436-9650-4fd4-c238-5d7e12221228"
      },
      "outputs": [
        {
          "output_type": "stream",
          "name": "stdout",
          "text": [
            "+-------+--------------------+------------------+------------------+------------------+------------------+-----------------+----------------+\n",
            "|summary|                 key|       fare_amount|  pickup_longitude|   pickup_latitude| dropoff_longitude| dropoff_latitude| passenger_count|\n",
            "+-------+--------------------+------------------+------------------+------------------+------------------+-----------------+----------------+\n",
            "|  count|              200000|            200000|            200000|            200000|            199999|           199999|          200000|\n",
            "|   mean|                NULL|11.342876949999926|-72.50612144955186|39.922325777255686|-72.51867346221104|39.92557945791378|        1.682445|\n",
            "| stddev|                NULL|  9.83785478733004|11.608096802996164|10.048946659938098|10.724225862534947|6.751120031010629|1.30672964292037|\n",
            "|    min|2009-01-01 00:35:...|             -44.9|           -736.55|      -3116.285383|       -1251.19589|      -1189.61544|               0|\n",
            "|    max|2015-06-30 23:28:...|             500.0|        2140.60116|       1703.092772|         40.851027|       404.616667|               6|\n",
            "+-------+--------------------+------------------+------------------+------------------+------------------+-----------------+----------------+\n",
            "\n"
          ]
        }
      ],
      "source": [
        "# checking for the statistical summery\n",
        "summary_df =df_new.describe()\n",
        "summary_df.show()"
      ]
    },
    {
      "cell_type": "markdown",
      "metadata": {
        "id": "isJpOWYsRlgp"
      },
      "source": [
        "**The minimum** fare is in negative, which is clearly erroneous (fares should not be negative).\n",
        "**The maximum** fare is $93,963.36, which is extremely high and likely an outlier."
      ]
    },
    {
      "cell_type": "markdown",
      "metadata": {
        "id": "nuvmqkR55Jhc"
      },
      "source": [
        "# Data Cleaning"
      ]
    },
    {
      "cell_type": "code",
      "execution_count": 17,
      "metadata": {
        "id": "fl0Un7JqSQmj"
      },
      "outputs": [],
      "source": [
        "# drop the rows with the null columns\n",
        "df_new=df_new.na.drop()"
      ]
    },
    {
      "cell_type": "code",
      "execution_count": 18,
      "metadata": {
        "id": "Ajrvp5guGfPl"
      },
      "outputs": [],
      "source": [
        "# drop duplicates\n",
        "df_new=df_new.dropDuplicates()"
      ]
    },
    {
      "cell_type": "code",
      "execution_count": 19,
      "metadata": {
        "id": "SvBAxuQ8GfZz"
      },
      "outputs": [],
      "source": [
        "# filtering out the erroneous data\n",
        "df_1 = df_new.filter(col('fare_amount') >= 0) \\\n",
        "               .filter((col('passenger_count') > 0) & (col('passenger_count') < 7)) \\\n",
        "               .filter((col('pickup_longitude') >= min_latitude) & (col('pickup_longitude') <= max_latitude)) \\\n",
        "               .filter((col('pickup_latitude') >= min_longitude) & (col('pickup_latitude') <= max_longitude)) \\\n",
        "               .filter((col('dropoff_longitude') >= min_latitude) & (col('dropoff_longitude') <= max_latitude)) \\\n",
        "               .filter((col('dropoff_latitude') >= min_longitude) & (col('dropoff_latitude') <= max_longitude))\n",
        "\n",
        "# alternatively, df_new = df_new.where(col('fare_amount') >= 0)"
      ]
    },
    {
      "cell_type": "code",
      "execution_count": 20,
      "metadata": {
        "id": "tF3Xt0FHtCfA"
      },
      "outputs": [],
      "source": [
        "# removeing outlier\n",
        "q1 = df_1.approxQuantile(\"fare_amount\", [0.25], 0.01)[0]\n",
        "q3 = df_1.approxQuantile(\"fare_amount\", [0.75], 0.01)[0]\n",
        "iqr = q3 - q1\n",
        "\n",
        "# defining upper and the lower bound\n",
        "lower_bound = q1 - 1.5 * iqr\n",
        "upper_bound = q3 + 1.5 * iqr"
      ]
    },
    {
      "cell_type": "code",
      "execution_count": 21,
      "metadata": {
        "id": "uiTDIgmotJzl"
      },
      "outputs": [],
      "source": [
        "df_1 = df_1.filter(col('fare_amount') >= lower_bound) \\\n",
        "               .filter(col('fare_amount') <= upper_bound )"
      ]
    },
    {
      "cell_type": "code",
      "execution_count": 22,
      "metadata": {
        "colab": {
          "base_uri": "https://localhost:8080/"
        },
        "id": "_U4HCi8uGfk0",
        "outputId": "7105265e-a7f1-49e1-bae9-9213015b36dc"
      },
      "outputs": [
        {
          "output_type": "stream",
          "name": "stdout",
          "text": [
            "root\n",
            " |-- fare_amount: double (nullable = true)\n",
            " |-- pickup_datetime: timestamp (nullable = true)\n",
            " |-- pickup_longitude: double (nullable = true)\n",
            " |-- pickup_latitude: double (nullable = true)\n",
            " |-- dropoff_longitude: double (nullable = true)\n",
            " |-- dropoff_latitude: double (nullable = true)\n",
            " |-- passenger_count: integer (nullable = true)\n",
            " |-- year: integer (nullable = true)\n",
            " |-- month: integer (nullable = true)\n",
            " |-- day: integer (nullable = true)\n",
            " |-- day_of_week: integer (nullable = true)\n",
            " |-- hour_of_day: integer (nullable = true)\n",
            "\n"
          ]
        }
      ],
      "source": [
        "# extracting new columns from pickup_datetime\n",
        "df_1 = df_1.withColumn(\"year\", year(col(\"pickup_datetime\"))) \\\n",
        "       .withColumn(\"month\", month(col(\"pickup_datetime\"))) \\\n",
        "       .withColumn(\"day\", dayofmonth(col(\"pickup_datetime\"))) \\\n",
        "       .withColumn(\"day_of_week\", date_format(col(\"pickup_datetime\"), 'u').cast(IntegerType())) \\\n",
        "       .withColumn(\"hour_of_day\", hour(col(\"pickup_datetime\"))) \\\n",
        "       .drop(\"key\")\n",
        "\n",
        "df_1.printSchema()"
      ]
    },
    {
      "cell_type": "code",
      "execution_count": 23,
      "metadata": {
        "colab": {
          "base_uri": "https://localhost:8080/"
        },
        "id": "_2MohoNjjjC4",
        "outputId": "4f355538-3905-4833-e1eb-42ff5646a5ff"
      },
      "outputs": [
        {
          "output_type": "stream",
          "name": "stdout",
          "text": [
            "+-----------+-------------------+----------------+---------------+-----------------+----------------+---------------+----+-----+---+-----------+-----------+\n",
            "|fare_amount|    pickup_datetime|pickup_longitude|pickup_latitude|dropoff_longitude|dropoff_latitude|passenger_count|year|month|day|day_of_week|hour_of_day|\n",
            "+-----------+-------------------+----------------+---------------+-----------------+----------------+---------------+----+-----+---+-----------+-----------+\n",
            "|       12.9|2011-08-24 16:14:22|      -73.996097|      40.738571|       -73.955683|       40.765484|              1|2011|    8| 24|          3|         16|\n",
            "|        4.5|2013-02-26 13:26:58|      -73.976059|      40.751548|       -73.975746|       40.744796|              1|2013|    2| 26|          2|         13|\n",
            "|       10.5|2014-06-29 07:27:00|      -73.994757|        40.7183|       -73.972327|       40.746397|              1|2014|    6| 29|          7|          7|\n",
            "|        6.5|2011-12-09 13:29:00|      -74.003652|      40.749087|       -73.986603|        40.76919|              1|2011|   12|  9|          5|         13|\n",
            "|        9.7|2011-07-22 22:14:01|      -73.947739|      40.775085|       -73.978831|       40.745203|              1|2011|    7| 22|          5|         22|\n",
            "|        9.3|2012-03-05 06:33:00|      -73.982473|      40.771892|       -73.964485|       40.806915|              3|2012|    3|  5|          1|          6|\n",
            "|        5.7|2010-07-03 22:29:48|       -73.99449|      40.722131|       -74.007918|       40.731643|              3|2010|    7|  3|          6|         22|\n",
            "|       11.3|2012-02-19 10:21:33|      -73.990755|      40.774786|        -73.99606|       40.735994|              1|2012|    2| 19|          7|         10|\n",
            "|        5.0|2014-12-11 15:53:39|      -73.980368|      40.783098|       -73.973801|       40.789321|              1|2014|   12| 11|          4|         15|\n",
            "|       10.0|2014-03-13 13:35:24|      -74.001675|      40.727628|       -73.988132|       40.737718|              1|2014|    3| 13|          4|         13|\n",
            "+-----------+-------------------+----------------+---------------+-----------------+----------------+---------------+----+-----+---+-----------+-----------+\n",
            "only showing top 10 rows\n",
            "\n"
          ]
        }
      ],
      "source": [
        "df_1.show(10)"
      ]
    },
    {
      "cell_type": "markdown",
      "metadata": {
        "id": "4C8bwEkQ5Jj3"
      },
      "source": [
        "# Exploratory Data Analysis (EDA)"
      ]
    },
    {
      "cell_type": "code",
      "execution_count": 24,
      "metadata": {
        "id": "2hLVPC6aiu2V"
      },
      "outputs": [],
      "source": [
        "# create tempurarty view to execute sql queries\n",
        "df_1.createOrReplaceTempView(\"NYC_taxi_data\")"
      ]
    },
    {
      "cell_type": "code",
      "execution_count": 25,
      "metadata": {
        "id": "yAu1OILmnUHa",
        "colab": {
          "base_uri": "https://localhost:8080/"
        },
        "outputId": "3bea2865-a13a-4b3e-b81d-c15fcbad9eee"
      },
      "outputs": [
        {
          "output_type": "stream",
          "name": "stdout",
          "text": [
            "+----------------+------------------+------------------+--------------------+-------------------+---------------------+--------------------+-------------------+\n",
            "| avg_fare_amount|median_fare_amount|stddev_fare_amount|avg_pickup_longitude|avg_pickup_latitude|avg_dropoff_longitude|avg_dropoff_latitude|avg_passenger_count|\n",
            "+----------------+------------------+------------------+--------------------+-------------------+---------------------+--------------------+-------------------+\n",
            "|8.92648807986677|               8.0| 4.139180596976789|  -72.53942610644764| 39.942037382935425|   -72.53451246878492|   39.94075474141564| 1.6849062927534162|\n",
            "+----------------+------------------+------------------+--------------------+-------------------+---------------------+--------------------+-------------------+\n",
            "\n"
          ]
        }
      ],
      "source": [
        "# Mean, median, and standard deviation for numerical columns\n",
        "summery_stats = \"\"\"\n",
        "SELECT\n",
        "    AVG(fare_amount) AS avg_fare_amount,\n",
        "    PERCENTILE_APPROX(fare_amount, 0.5) AS median_fare_amount,\n",
        "    STDDEV(fare_amount) AS stddev_fare_amount,\n",
        "    AVG(pickup_longitude) AS avg_pickup_longitude,\n",
        "    AVG(pickup_latitude) AS avg_pickup_latitude,\n",
        "    AVG(dropoff_longitude) AS avg_dropoff_longitude,\n",
        "    AVG(dropoff_latitude) AS avg_dropoff_latitude,\n",
        "    AVG(passenger_count) AS avg_passenger_count\n",
        "FROM NYC_taxi_data\n",
        "\"\"\"\n",
        "summary_stats = spark.sql(summery_stats)\n",
        "summary_stats.show()"
      ]
    },
    {
      "cell_type": "code",
      "execution_count": 26,
      "metadata": {
        "id": "oGK92oSlovsa",
        "colab": {
          "base_uri": "https://localhost:8080/"
        },
        "outputId": "576e6f17-fea2-4610-e262-caef59753674"
      },
      "outputs": [
        {
          "output_type": "stream",
          "name": "stdout",
          "text": [
            "+-----------+----------+\n",
            "|hour_of_day|trip_count|\n",
            "+-----------+----------+\n",
            "|         19|     11557|\n",
            "|         18|     11220|\n",
            "|         20|     10871|\n",
            "|         21|     10551|\n",
            "|         22|     10253|\n",
            "|         14|      9121|\n",
            "|         12|      9023|\n",
            "|         23|      8993|\n",
            "|         17|      8907|\n",
            "|         13|      8841|\n",
            "|          9|      8714|\n",
            "|         11|      8577|\n",
            "|         15|      8523|\n",
            "|          8|      8306|\n",
            "|         10|      8203|\n",
            "|         16|      7238|\n",
            "|          0|      7074|\n",
            "|          7|      6748|\n",
            "|          1|      5150|\n",
            "|          2|      3990|\n",
            "+-----------+----------+\n",
            "only showing top 20 rows\n",
            "\n"
          ]
        }
      ],
      "source": [
        "# which time of the day is the busiest\n",
        "busiest_hour = \"\"\"\n",
        "SELECT\n",
        "    hour_of_day,\n",
        "    COUNT(*) AS trip_count\n",
        "FROM NYC_taxi_data\n",
        "GROUP BY hour_of_day\n",
        "ORDER BY trip_count DESC\n",
        "\"\"\"\n",
        "busiest_hour = spark.sql(busiest_hour)\n",
        "busiest_hour.show()"
      ]
    },
    {
      "cell_type": "code",
      "execution_count": 27,
      "metadata": {
        "id": "mkBCPR7zqlj8",
        "colab": {
          "base_uri": "https://localhost:8080/"
        },
        "outputId": "d670584a-c67d-4699-8058-5824cf20727f"
      },
      "outputs": [
        {
          "output_type": "stream",
          "name": "stdout",
          "text": [
            "+-----------+----------+\n",
            "|day_of_week|trip_count|\n",
            "+-----------+----------+\n",
            "|          5|     28209|\n",
            "|          6|     27989|\n",
            "|          4|     26967|\n",
            "|          3|     26543|\n",
            "|          2|     25445|\n",
            "|          7|     23534|\n",
            "|          1|     23316|\n",
            "+-----------+----------+\n",
            "\n"
          ]
        }
      ],
      "source": [
        "# which day of the week is the busiest day\n",
        "busiest_day_of_week = \"\"\"\n",
        "SELECT\n",
        "    day_of_week,\n",
        "    COUNT(*) AS trip_count\n",
        "FROM NYC_taxi_data\n",
        "GROUP BY day_of_week\n",
        "ORDER BY trip_count DESC\n",
        "\"\"\"\n",
        "busiest_day_of_week = spark.sql(busiest_day_of_week)\n",
        "busiest_day_of_week.show()"
      ]
    },
    {
      "cell_type": "code",
      "execution_count": 28,
      "metadata": {
        "id": "Qk8fKUb6rfgK",
        "colab": {
          "base_uri": "https://localhost:8080/"
        },
        "outputId": "a89811e7-8e6c-4ebf-ebe0-92049620fe5f"
      },
      "outputs": [
        {
          "output_type": "stream",
          "name": "stdout",
          "text": [
            "+----+-----+---+-----------------+----------+\n",
            "|year|month|day|     average_fare|trip_count|\n",
            "+----+-----+---+-----------------+----------+\n",
            "|2009|    1|  1|8.135714285714284|        70|\n",
            "|2009|    1|  2|7.201492537313433|        67|\n",
            "|2009|    1|  3| 8.25294117647059|        68|\n",
            "|2009|    1|  4|8.080952380952379|        63|\n",
            "|2009|    1|  5|8.450877192982455|        57|\n",
            "|2009|    1|  6|7.482278481012658|        79|\n",
            "|2009|    1|  7| 7.56830985915493|        71|\n",
            "|2009|    1|  8| 7.55142857142857|        70|\n",
            "|2009|    1|  9|7.985294117647059|       102|\n",
            "|2009|    1| 10|7.771212121212121|        66|\n",
            "|2009|    1| 11| 8.15223880597015|        67|\n",
            "|2009|    1| 12|8.119696969696971|        66|\n",
            "|2009|    1| 13| 8.37784810126582|        79|\n",
            "|2009|    1| 14|7.913333333333334|        90|\n",
            "|2009|    1| 15|8.394512195121951|        82|\n",
            "|2009|    1| 16|8.294565217391305|        92|\n",
            "|2009|    1| 17|8.048192771084334|        83|\n",
            "|2009|    1| 18|7.893442622950818|        61|\n",
            "|2009|    1| 19|7.435135135135136|        74|\n",
            "|2009|    1| 20|7.318421052631576|        76|\n",
            "+----+-----+---+-----------------+----------+\n",
            "only showing top 20 rows\n",
            "\n"
          ]
        }
      ],
      "source": [
        "# daily trend: average fare amount and trip count per day\n",
        "daily_trends = spark.sql(\"\"\"\n",
        "    SELECT year, month, day,\n",
        "           AVG(fare_amount) AS average_fare,\n",
        "           COUNT(*) AS trip_count\n",
        "    FROM NYC_taxi_data\n",
        "    GROUP BY year, month, day\n",
        "    ORDER BY year, month, day\n",
        "\"\"\")\n",
        "daily_trends.show()\n"
      ]
    },
    {
      "cell_type": "code",
      "source": [
        "# weekly average fare and trip count by day of the week\n",
        "weekly_trends = spark.sql(\"\"\"\n",
        "    SELECT day_of_week,\n",
        "           AVG(fare_amount) AS average_fare,\n",
        "           COUNT(*) AS trip_count\n",
        "    FROM NYC_taxi_data\n",
        "    GROUP BY day_of_week\n",
        "    ORDER BY day_of_week\n",
        "\"\"\")\n",
        "weekly_trends.show()\n"
      ],
      "metadata": {
        "id": "Y71kV05s3jiK",
        "colab": {
          "base_uri": "https://localhost:8080/"
        },
        "outputId": "0c93e130-552a-4717-d8ab-74fd8b1419cf"
      },
      "execution_count": 29,
      "outputs": [
        {
          "output_type": "stream",
          "name": "stdout",
          "text": [
            "+-----------+-----------------+----------+\n",
            "|day_of_week|     average_fare|trip_count|\n",
            "+-----------+-----------------+----------+\n",
            "|          1|8.674797135014563|     23316|\n",
            "|          2|8.838727058361174|     25445|\n",
            "|          3| 8.92565911916514|     26543|\n",
            "|          4|8.996404494382034|     26967|\n",
            "|          5|9.029982984154035|     28209|\n",
            "|          6|9.018290399799902|     27989|\n",
            "|          7| 8.95831987762387|     23534|\n",
            "+-----------+-----------------+----------+\n",
            "\n"
          ]
        }
      ]
    },
    {
      "cell_type": "markdown",
      "metadata": {
        "id": "KoWF6hMB5mm6"
      },
      "source": [
        "#Feature Engineering and Feature Selection"
      ]
    },
    {
      "cell_type": "code",
      "source": [
        "df_1=df_1.drop(\"pickup_datetime\")"
      ],
      "metadata": {
        "id": "TKgOIQa9CBYr"
      },
      "execution_count": 30,
      "outputs": []
    },
    {
      "cell_type": "code",
      "source": [
        "# select features and target variable\n",
        "feature_columns = [\"pickup_longitude\", \"pickup_latitude\", \"dropoff_longitude\", \"dropoff_latitude\",\n",
        "                   \"passenger_count\", \"month\", \"day\", \"day_of_week\", \"hour_of_day\"]\n",
        "target_column = \"fare_amount\""
      ],
      "metadata": {
        "id": "iZWPb-Zm4r5G"
      },
      "execution_count": 31,
      "outputs": []
    },
    {
      "cell_type": "code",
      "source": [
        "# create feature vector\n",
        "assembler = VectorAssembler(inputCols=feature_columns, outputCol=\"features\")\n",
        "data = assembler.transform(df_1)"
      ],
      "metadata": {
        "id": "Q2NGgjZ05A8b"
      },
      "execution_count": 32,
      "outputs": []
    },
    {
      "cell_type": "markdown",
      "metadata": {
        "id": "G3a_bHeJ5mpN"
      },
      "source": [
        "# Split Data"
      ]
    },
    {
      "cell_type": "code",
      "source": [
        "final_data = data.select(\"features\", \"fare_amount\")\n",
        "final_data.show(10)"
      ],
      "metadata": {
        "colab": {
          "base_uri": "https://localhost:8080/"
        },
        "id": "Z3j52Pxa1Cts",
        "outputId": "cd231701-2bb5-49f6-8999-e0879b59bd86"
      },
      "execution_count": 33,
      "outputs": [
        {
          "output_type": "stream",
          "name": "stdout",
          "text": [
            "+--------------------+-----------+\n",
            "|            features|fare_amount|\n",
            "+--------------------+-----------+\n",
            "|[-73.996097,40.73...|       12.9|\n",
            "|[-73.976059,40.75...|        4.5|\n",
            "|[-73.994757,40.71...|       10.5|\n",
            "|[-74.003652,40.74...|        6.5|\n",
            "|[-73.947739,40.77...|        9.7|\n",
            "|[-73.982473,40.77...|        9.3|\n",
            "|[-73.99449,40.722...|        5.7|\n",
            "|[-73.990755,40.77...|       11.3|\n",
            "|[-73.980368,40.78...|        5.0|\n",
            "|[-74.001675,40.72...|       10.0|\n",
            "+--------------------+-----------+\n",
            "only showing top 10 rows\n",
            "\n"
          ]
        }
      ]
    },
    {
      "cell_type": "code",
      "source": [
        "# split the data into training and testing sets (70% training, 30% testing)\n",
        "train_data, test_data = df_1.randomSplit([0.7, 0.3], seed=42)"
      ],
      "metadata": {
        "id": "25T3IZSb497e"
      },
      "execution_count": 34,
      "outputs": []
    },
    {
      "cell_type": "code",
      "source": [
        "train_data.show(10)"
      ],
      "metadata": {
        "colab": {
          "base_uri": "https://localhost:8080/"
        },
        "id": "C4lljIzh0eAn",
        "outputId": "ace26cff-b2e2-4262-f952-5c6ed37c607a"
      },
      "execution_count": 35,
      "outputs": [
        {
          "output_type": "stream",
          "name": "stdout",
          "text": [
            "+-----------+----------------+---------------+-----------------+----------------+---------------+----+-----+---+-----------+-----------+\n",
            "|fare_amount|pickup_longitude|pickup_latitude|dropoff_longitude|dropoff_latitude|passenger_count|year|month|day|day_of_week|hour_of_day|\n",
            "+-----------+----------------+---------------+-----------------+----------------+---------------+----+-----+---+-----------+-----------+\n",
            "|        0.0|      -73.942346|      40.806269|       -73.942463|       40.806129|              1|2010|    3| 18|          4|         19|\n",
            "|        0.0|       -73.48448|      40.813401|       -73.484442|       40.813323|              2|2014|    6| 29|          7|         16|\n",
            "|        2.5|      -74.030525|      40.748424|       -74.030494|       40.748417|              1|2012|   12| 17|          1|         22|\n",
            "|        2.5|      -74.016967|      40.709565|       -74.017062|       40.709092|              1|2009|    1|  2|          5|         14|\n",
            "|        2.5|      -74.014547|      40.713935|       -73.993788|        40.72724|              1|2011|   11| 17|          4|         13|\n",
            "|        2.5|      -74.014048|      40.712958|       -74.014052|        40.71295|              1|2010|   11| 22|          1|         22|\n",
            "|        2.5|      -74.013322|      40.712017|       -74.013322|       40.712017|              1|2009|    7|  7|          2|         14|\n",
            "|        2.5|       -74.01274|      40.706392|       -74.012684|       40.703977|              2|2010|    9|  5|          7|          0|\n",
            "|        2.5|      -74.010874|      40.716454|       -74.010874|       40.716454|              1|2010|   12|  1|          3|          8|\n",
            "|        2.5|      -74.008317|      40.729783|       -74.008295|       40.729875|              1|2009|   10| 14|          3|         11|\n",
            "+-----------+----------------+---------------+-----------------+----------------+---------------+----+-----+---+-----------+-----------+\n",
            "only showing top 10 rows\n",
            "\n"
          ]
        }
      ]
    },
    {
      "cell_type": "markdown",
      "metadata": {
        "id": "vOqVJPzl5msq"
      },
      "source": [
        "# Model Selection and Training"
      ]
    },
    {
      "cell_type": "code",
      "source": [
        "# initialize the Linear Regression model\n",
        "lr = LinearRegression(featuresCol=\"features\", labelCol=\"fare_amount\")"
      ],
      "metadata": {
        "id": "WtK8pcAp5ZE-"
      },
      "execution_count": 36,
      "outputs": []
    },
    {
      "cell_type": "code",
      "source": [
        "# define the parameter grid for Linear Regression\n",
        "paramGrid = ParamGridBuilder() \\\n",
        "    .addGrid(lr.regParam, [0.01, 0.1, 0.5]) \\\n",
        "    .addGrid(lr.elasticNetParam, [0.0, 0.5, 1.0]) \\\n",
        "    .build()"
      ],
      "metadata": {
        "id": "Nt61ZsAf62EA"
      },
      "execution_count": 37,
      "outputs": []
    },
    {
      "cell_type": "code",
      "source": [
        "# Evaluate model\n",
        "lrevaluator = RegressionEvaluator(predictionCol=\"prediction\", labelCol=\"fare_amount\", metricName=\"rmse\")\n",
        "\n",
        "# Create 3-fold CrossValidator\n",
        "lrcv = CrossValidator(estimator = lr,\n",
        "                    estimatorParamMaps = paramGrid,\n",
        "                    evaluator = lrevaluator,\n",
        "                    numFolds = 3)"
      ],
      "metadata": {
        "id": "bGHBRKpC692m"
      },
      "execution_count": 38,
      "outputs": []
    },
    {
      "cell_type": "code",
      "source": [
        "# pipelineing\n",
        "pipeline=Pipeline(stages=[assembler,lrcv])"
      ],
      "metadata": {
        "id": "8Lw0ZI56mPnB"
      },
      "execution_count": 39,
      "outputs": []
    },
    {
      "cell_type": "code",
      "source": [
        "# fit the model\n",
        "pipeline_model = pipeline.fit(train_data)"
      ],
      "metadata": {
        "id": "TKdBwKbI5iqs"
      },
      "execution_count": 40,
      "outputs": []
    },
    {
      "cell_type": "markdown",
      "metadata": {
        "id": "De5xFR5N5vxw"
      },
      "source": [
        "# Model Evaluation"
      ]
    },
    {
      "cell_type": "code",
      "source": [
        "# get predictions from the best model\n",
        "predictions = pipeline_model.transform(test_data)\n",
        "\n",
        "# evaluate the best model using RMSE\n",
        "rmse = lrevaluator.evaluate(predictions)\n",
        "print(f\"Best Model's RMSE on test data: {rmse}\")"
      ],
      "metadata": {
        "id": "0h9mMqF_5oO9",
        "colab": {
          "base_uri": "https://localhost:8080/"
        },
        "outputId": "94560f9a-45dd-48c4-d629-b6bd8c1c465a"
      },
      "execution_count": 41,
      "outputs": [
        {
          "output_type": "stream",
          "name": "stdout",
          "text": [
            "Best Model's RMSE on test data: 4.10924319457988\n"
          ]
        }
      ]
    },
    {
      "cell_type": "code",
      "source": [
        "best_model = pipeline_model.stages[-1].bestModel\n",
        "best_param=best_model.extractParamMap()\n",
        "\n",
        "for param, value in best_param.items():\n",
        "    print(f\"{param.name}: {value}\")\n"
      ],
      "metadata": {
        "colab": {
          "base_uri": "https://localhost:8080/"
        },
        "id": "lG-29t8nwROf",
        "outputId": "68f65010-0bac-4c46-a983-fa1064353f4d"
      },
      "execution_count": 42,
      "outputs": [
        {
          "output_type": "stream",
          "name": "stdout",
          "text": [
            "aggregationDepth: 2\n",
            "elasticNetParam: 0.0\n",
            "epsilon: 1.35\n",
            "featuresCol: features\n",
            "fitIntercept: True\n",
            "labelCol: fare_amount\n",
            "loss: squaredError\n",
            "maxBlockSizeInMB: 0.0\n",
            "maxIter: 100\n",
            "predictionCol: prediction\n",
            "regParam: 0.01\n",
            "solver: auto\n",
            "standardization: True\n",
            "tol: 1e-06\n"
          ]
        }
      ]
    },
    {
      "cell_type": "markdown",
      "metadata": {
        "id": "LXrSVs0O5v3J"
      },
      "source": [
        "# Saving the model"
      ]
    },
    {
      "cell_type": "code",
      "source": [
        "pipeline_model.save('/content/drive/MyDrive/NYC_taxi_data/lr_models')"
      ],
      "metadata": {
        "id": "NtC_Aes3ymqv"
      },
      "execution_count": 45,
      "outputs": []
    }
  ],
  "metadata": {
    "colab": {
      "provenance": []
    },
    "kernelspec": {
      "display_name": "Python 3",
      "name": "python3"
    },
    "language_info": {
      "name": "python"
    }
  },
  "nbformat": 4,
  "nbformat_minor": 0
}