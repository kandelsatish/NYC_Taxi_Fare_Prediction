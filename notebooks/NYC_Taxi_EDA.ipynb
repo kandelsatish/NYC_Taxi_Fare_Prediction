{
  "cells": [
    {
      "cell_type": "markdown",
      "metadata": {
        "id": "Yd4HFBKe5JV_"
      },
      "source": [
        "# Importing  necessary liberaries"
      ]
    },
    {
      "cell_type": "code",
      "execution_count": null,
      "metadata": {
        "id": "MAtnSqNQAPdh"
      },
      "outputs": [],
      "source": [
        "# !pip install pyspark"
      ]
    },
    {
      "cell_type": "code",
      "execution_count": null,
      "metadata": {
        "id": "ugIDizZP6AkW"
      },
      "outputs": [],
      "source": [
        "import pandas as pd\n",
        "import numpy as np\n",
        "import matplotlib.pyplot as plt\n",
        "import seaborn as sns\n",
        "import warnings\n",
        "warnings.filterwarnings(\"ignore\")\n",
        "from pyspark.sql import SparkSession\n",
        "from pyspark.sql.functions import col,year, month, dayofmonth, date_format,hour,to_timestamp\n",
        "from pyspark.sql.types import *\n",
        "from google.colab import drive\n",
        "import zipfile\n",
        "from pyspark.ml.feature import VectorAssembler\n",
        "from pyspark.ml.regression import LinearRegression,RandomForestRegressor\n",
        "from pyspark.ml.evaluation import RegressionEvaluator\n",
        "from pyspark.ml import Pipeline\n",
        "from pyspark.ml.tuning import CrossValidator, ParamGridBuilder\n",
        "from pyspark.ml.evaluation import RegressionEvaluator\n",
        "import time\n"
      ]
    },
    {
      "cell_type": "code",
      "execution_count": null,
      "metadata": {
        "colab": {
          "base_uri": "https://localhost:8080/",
          "height": 219
        },
        "id": "kLtj2l5xAH3Z",
        "outputId": "67a45ba7-a41b-42b9-a482-abcbd9ca2d12"
      },
      "outputs": [
        {
          "output_type": "execute_result",
          "data": {
            "text/plain": [
              "<pyspark.sql.session.SparkSession at 0x7a6a5a0a9300>"
            ],
            "text/html": [
              "\n",
              "            <div>\n",
              "                <p><b>SparkSession - in-memory</b></p>\n",
              "                \n",
              "        <div>\n",
              "            <p><b>SparkContext</b></p>\n",
              "\n",
              "            <p><a href=\"http://39049cd1bf2f:4040\">Spark UI</a></p>\n",
              "\n",
              "            <dl>\n",
              "              <dt>Version</dt>\n",
              "                <dd><code>v3.5.3</code></dd>\n",
              "              <dt>Master</dt>\n",
              "                <dd><code>local[*]</code></dd>\n",
              "              <dt>AppName</dt>\n",
              "                <dd><code>NYC Taxi Fare Predction</code></dd>\n",
              "            </dl>\n",
              "        </div>\n",
              "        \n",
              "            </div>\n",
              "        "
            ]
          },
          "metadata": {},
          "execution_count": 3
        }
      ],
      "source": [
        "# creating the spark session\n",
        "spark=SparkSession.builder.appName(\"NYC Taxi Fare Predction\").getOrCreate()\n",
        "spark"
      ]
    },
    {
      "cell_type": "code",
      "execution_count": null,
      "metadata": {
        "id": "FrTe2-2XpZlJ"
      },
      "outputs": [],
      "source": [
        "spark.conf.set(\"spark.sql.legacy.timeParserPolicy\", \"LEGACY\")"
      ]
    },
    {
      "cell_type": "markdown",
      "metadata": {
        "id": "4HQkivv-5JfE"
      },
      "source": [
        "# Data Loading and Inspection"
      ]
    },
    {
      "cell_type": "code",
      "execution_count": null,
      "metadata": {
        "colab": {
          "base_uri": "https://localhost:8080/"
        },
        "id": "3okKAyw0C9B1",
        "outputId": "3ee8fa95-d03e-4f91-b2fa-9c1949d4de61"
      },
      "outputs": [
        {
          "output_type": "stream",
          "name": "stdout",
          "text": [
            "Drive already mounted at /content/drive; to attempt to forcibly remount, call drive.mount(\"/content/drive\", force_remount=True).\n"
          ]
        }
      ],
      "source": [
        "drive.mount('/content/drive')"
      ]
    },
    {
      "cell_type": "code",
      "execution_count": null,
      "metadata": {
        "id": "waiNqK-K8woa"
      },
      "outputs": [],
      "source": [
        "# variables\n",
        "zip_path = \"/content/drive/MyDrive/NYC_taxi_data/new-york-city-taxi-fare-prediction.zip\"\n",
        "extract_path = \"/content/drive/MyDrive/NYC_taxi_data/\"\n",
        "train_file_path = \"/content/drive/MyDrive/NYC_taxi_data/train.csv\"\n",
        "test_file_path = \"/content/drive/MyDrive/NYC_taxi_data/test.csv\"\n",
        "number_of_rows = 200000\n",
        "min_latitude, max_latitude = -90, 90\n",
        "min_longitude, max_longitude = -180, 180"
      ]
    },
    {
      "cell_type": "code",
      "execution_count": null,
      "metadata": {
        "id": "6zz4tezxNn4O"
      },
      "outputs": [],
      "source": [
        "# function to extract zip file\n",
        "def unzip_file(zip_path, extract_path):\n",
        "    with zipfile.ZipFile(zip_path, 'r') as zip_ref:\n",
        "        zip_ref.extractall(extract_path)\n",
        "        print(\"File unzipped successfully\")\n",
        "\n",
        "# unzip_file(zip_path, extract_path)"
      ]
    },
    {
      "cell_type": "code",
      "execution_count": null,
      "metadata": {
        "colab": {
          "base_uri": "https://localhost:8080/"
        },
        "id": "hO_1syW3C_5g",
        "outputId": "4dafaeb2-b271-418b-cffb-9ea12e59cd6b"
      },
      "outputs": [
        {
          "output_type": "stream",
          "name": "stdout",
          "text": [
            "GCP-Coupons-Instructions.rtf\t\tsample_submission.csv  train.csv\n",
            "new-york-city-taxi-fare-prediction.zip\ttest.csv\n"
          ]
        }
      ],
      "source": [
        "!ls /content/drive/MyDrive/NYC_taxi_data/"
      ]
    },
    {
      "cell_type": "code",
      "execution_count": null,
      "metadata": {
        "colab": {
          "base_uri": "https://localhost:8080/"
        },
        "id": "yZocIaO4D3cQ",
        "outputId": "bda74d35-fc3c-41b8-9eb0-1302ca013247"
      },
      "outputs": [
        {
          "output_type": "stream",
          "name": "stdout",
          "text": [
            "Time taken to load the data: 202.20083808898926 seconds\n"
          ]
        }
      ],
      "source": [
        "# read csv file from google drive and show 10 rows from the dataframe\n",
        "start_time = time.time()\n",
        "df = spark.read.csv(train_file_path, header=True, inferSchema=True).limit(number_of_rows)\n",
        "end_time = time.time()\n",
        "print(f\"Time taken to load the data: {end_time - start_time} seconds\")"
      ]
    },
    {
      "cell_type": "code",
      "source": [
        "df_new = df.withColumn(\"pickup_datetime\", to_timestamp(col(\"pickup_datetime\"), \"yyyy-MM-dd HH:mm:ss\"))"
      ],
      "metadata": {
        "id": "xeMkR9jQs5Ep"
      },
      "execution_count": null,
      "outputs": []
    },
    {
      "cell_type": "code",
      "source": [
        "df_new.show(10)"
      ],
      "metadata": {
        "colab": {
          "base_uri": "https://localhost:8080/"
        },
        "id": "oZLdUY0ptKXL",
        "outputId": "a48f8579-050e-4d23-bd43-19636a11fcb0"
      },
      "execution_count": null,
      "outputs": [
        {
          "output_type": "stream",
          "name": "stdout",
          "text": [
            "+--------------------+-----------+-------------------+----------------+---------------+-----------------+----------------+---------------+\n",
            "|                 key|fare_amount|    pickup_datetime|pickup_longitude|pickup_latitude|dropoff_longitude|dropoff_latitude|passenger_count|\n",
            "+--------------------+-----------+-------------------+----------------+---------------+-----------------+----------------+---------------+\n",
            "|2009-06-15 17:26:...|        4.5|2009-06-15 17:26:21|      -73.844311|      40.721319|        -73.84161|       40.712278|              1|\n",
            "|2010-01-05 16:52:...|       16.9|2010-01-05 16:52:16|      -74.016048|      40.711303|       -73.979268|       40.782004|              1|\n",
            "|2011-08-18 00:35:...|        5.7|2011-08-18 00:35:00|      -73.982738|       40.76127|       -73.991242|       40.750562|              2|\n",
            "|2012-04-21 04:30:...|        7.7|2012-04-21 04:30:42|       -73.98713|      40.733143|       -73.991567|       40.758092|              1|\n",
            "|2010-03-09 07:51:...|        5.3|2010-03-09 07:51:00|      -73.968095|      40.768008|       -73.956655|       40.783762|              1|\n",
            "|2011-01-06 09:50:...|       12.1|2011-01-06 09:50:45|      -74.000964|       40.73163|       -73.972892|       40.758233|              1|\n",
            "|2012-11-20 20:35:...|        7.5|2012-11-20 20:35:00|      -73.980002|      40.751662|       -73.973802|       40.764842|              1|\n",
            "|2012-01-04 17:22:...|       16.5|2012-01-04 17:22:00|        -73.9513|      40.774138|       -73.990095|       40.751048|              1|\n",
            "|2012-12-03 13:10:...|        9.0|2012-12-03 13:10:00|      -74.006462|      40.726713|       -73.993078|       40.731628|              1|\n",
            "|2009-09-02 01:11:...|        8.9|2009-09-02 01:11:00|      -73.980658|      40.733873|        -73.99154|       40.758138|              2|\n",
            "+--------------------+-----------+-------------------+----------------+---------------+-----------------+----------------+---------------+\n",
            "only showing top 10 rows\n",
            "\n"
          ]
        }
      ]
    },
    {
      "cell_type": "code",
      "execution_count": null,
      "metadata": {
        "colab": {
          "base_uri": "https://localhost:8080/"
        },
        "id": "2Pg7amvTEKrw",
        "outputId": "75ac5f8f-65c0-4bba-b039-6a49b89a0bfd"
      },
      "outputs": [
        {
          "output_type": "stream",
          "name": "stdout",
          "text": [
            "root\n",
            " |-- key: string (nullable = true)\n",
            " |-- fare_amount: double (nullable = true)\n",
            " |-- pickup_datetime: timestamp (nullable = true)\n",
            " |-- pickup_longitude: double (nullable = true)\n",
            " |-- pickup_latitude: double (nullable = true)\n",
            " |-- dropoff_longitude: double (nullable = true)\n",
            " |-- dropoff_latitude: double (nullable = true)\n",
            " |-- passenger_count: integer (nullable = true)\n",
            "\n"
          ]
        }
      ],
      "source": [
        "# check for the columns, data types and if there are any null values\n",
        "df_new.printSchema()"
      ]
    },
    {
      "cell_type": "code",
      "execution_count": null,
      "metadata": {
        "colab": {
          "base_uri": "https://localhost:8080/"
        },
        "id": "dpu0_dGREyGN",
        "outputId": "a8d920bc-6965-4efe-e9ff-473485d9741d"
      },
      "outputs": [
        {
          "output_type": "stream",
          "name": "stdout",
          "text": [
            "Number of partitions: 1\n"
          ]
        }
      ],
      "source": [
        "# check for the number of partitons\n",
        "num_partitions = df_new.rdd.getNumPartitions()\n",
        "print(\"Number of partitions:\", num_partitions)"
      ]
    },
    {
      "cell_type": "code",
      "execution_count": null,
      "metadata": {
        "colab": {
          "base_uri": "https://localhost:8080/"
        },
        "id": "SFrH42x8FqvM",
        "outputId": "a2b3eb5d-b2ff-4cef-bbb7-d34a9b633185"
      },
      "outputs": [
        {
          "output_type": "stream",
          "name": "stdout",
          "text": [
            "Number of rows: 200000\n"
          ]
        }
      ],
      "source": [
        "# count number of rows\n",
        "row_count = df_new.count()\n",
        "print(\"Number of rows:\", row_count)"
      ]
    },
    {
      "cell_type": "code",
      "execution_count": null,
      "metadata": {
        "colab": {
          "base_uri": "https://localhost:8080/"
        },
        "id": "yjeDPYuBGvrh",
        "outputId": "4be0753c-c92e-4e8b-9277-a94b582d6a07"
      },
      "outputs": [
        {
          "output_type": "stream",
          "name": "stdout",
          "text": [
            "+-------+--------------------+------------------+------------------+------------------+------------------+-----------------+------------------+\n",
            "|summary|                 key|       fare_amount|  pickup_longitude|   pickup_latitude| dropoff_longitude| dropoff_latitude|   passenger_count|\n",
            "+-------+--------------------+------------------+------------------+------------------+------------------+-----------------+------------------+\n",
            "|  count|              200000|            200000|            200000|            200000|            199999|           199999|            200000|\n",
            "|   mean|                NULL|11.342876950000601|-72.50612144955218|39.922325777255104|-72.51867346221218|39.92557945791384|          1.682445|\n",
            "| stddev|                NULL| 9.837854787330032|11.608096802996164|10.048946659938037|10.724225862534897|6.751120031010652|1.3067296429203594|\n",
            "|    min|2009-01-01 00:35:...|             -44.9|           -736.55|      -3116.285383|       -1251.19589|      -1189.61544|                 0|\n",
            "|    max|2015-06-30 23:28:...|             500.0|        2140.60116|       1703.092772|         40.851027|       404.616667|                 6|\n",
            "+-------+--------------------+------------------+------------------+------------------+------------------+-----------------+------------------+\n",
            "\n"
          ]
        }
      ],
      "source": [
        "# checking for the statistical summery\n",
        "summary_df =df_new.describe()\n",
        "summary_df.show()"
      ]
    },
    {
      "cell_type": "markdown",
      "metadata": {
        "id": "isJpOWYsRlgp"
      },
      "source": [
        "**The minimum** fare is in negative, which is clearly erroneous (fares should not be negative).\n",
        "**The maximum** fare is $93,963.36, which is extremely high and likely an outlier."
      ]
    },
    {
      "cell_type": "markdown",
      "metadata": {
        "id": "nuvmqkR55Jhc"
      },
      "source": [
        "# Data Cleaning"
      ]
    },
    {
      "cell_type": "code",
      "execution_count": null,
      "metadata": {
        "id": "fl0Un7JqSQmj"
      },
      "outputs": [],
      "source": [
        "# drop the rows with the null columns\n",
        "df_new=df_new.na.drop()"
      ]
    },
    {
      "cell_type": "code",
      "execution_count": null,
      "metadata": {
        "id": "Ajrvp5guGfPl"
      },
      "outputs": [],
      "source": [
        "# drop duplicates\n",
        "df_new=df_new.dropDuplicates()"
      ]
    },
    {
      "cell_type": "code",
      "execution_count": null,
      "metadata": {
        "id": "SvBAxuQ8GfZz"
      },
      "outputs": [],
      "source": [
        "# filtering out the erroneous data\n",
        "df_1 = df_new.filter(col('fare_amount') >= 0) \\\n",
        "               .filter((col('passenger_count') > 0) & (col('passenger_count') < 7)) \\\n",
        "               .filter((col('pickup_longitude') >= min_latitude) & (col('pickup_longitude') <= max_latitude)) \\\n",
        "               .filter((col('pickup_latitude') >= min_longitude) & (col('pickup_latitude') <= max_longitude)) \\\n",
        "               .filter((col('dropoff_longitude') >= min_latitude) & (col('dropoff_longitude') <= max_latitude)) \\\n",
        "               .filter((col('dropoff_latitude') >= min_longitude) & (col('dropoff_latitude') <= max_longitude))\n",
        "\n",
        "# alternatively, df_new = df_new.where(col('fare_amount') >= 0)"
      ]
    },
    {
      "cell_type": "code",
      "execution_count": null,
      "metadata": {
        "id": "tF3Xt0FHtCfA"
      },
      "outputs": [],
      "source": [
        "# removeing outlier\n",
        "q1 = df_1.approxQuantile(\"fare_amount\", [0.25], 0.01)[0]\n",
        "q3 = df_1.approxQuantile(\"fare_amount\", [0.75], 0.01)[0]\n",
        "iqr = q3 - q1\n",
        "\n",
        "# defining upper and the lower bound\n",
        "lower_bound = q1 - 1.5 * iqr\n",
        "upper_bound = q3 + 1.5 * iqr"
      ]
    },
    {
      "cell_type": "code",
      "execution_count": null,
      "metadata": {
        "id": "uiTDIgmotJzl"
      },
      "outputs": [],
      "source": [
        "df_1 = df_1.filter(col('fare_amount') >= lower_bound) \\\n",
        "               .filter(col('fare_amount') <= upper_bound )"
      ]
    },
    {
      "cell_type": "code",
      "execution_count": null,
      "metadata": {
        "colab": {
          "base_uri": "https://localhost:8080/"
        },
        "id": "_U4HCi8uGfk0",
        "outputId": "3a85d360-3ee3-41df-84c8-32ce1d1deaa6"
      },
      "outputs": [
        {
          "output_type": "stream",
          "name": "stdout",
          "text": [
            "root\n",
            " |-- fare_amount: double (nullable = true)\n",
            " |-- pickup_datetime: timestamp (nullable = true)\n",
            " |-- pickup_longitude: double (nullable = true)\n",
            " |-- pickup_latitude: double (nullable = true)\n",
            " |-- dropoff_longitude: double (nullable = true)\n",
            " |-- dropoff_latitude: double (nullable = true)\n",
            " |-- passenger_count: integer (nullable = true)\n",
            " |-- year: integer (nullable = true)\n",
            " |-- month: integer (nullable = true)\n",
            " |-- day: integer (nullable = true)\n",
            " |-- day_of_week: integer (nullable = true)\n",
            " |-- hour_of_day: integer (nullable = true)\n",
            "\n"
          ]
        }
      ],
      "source": [
        "# extracting new columns from pickup_datetime\n",
        "df_1 = df_1.withColumn(\"year\", year(col(\"pickup_datetime\"))) \\\n",
        "       .withColumn(\"month\", month(col(\"pickup_datetime\"))) \\\n",
        "       .withColumn(\"day\", dayofmonth(col(\"pickup_datetime\"))) \\\n",
        "       .withColumn(\"day_of_week\", date_format(col(\"pickup_datetime\"), 'u').cast(IntegerType())) \\\n",
        "       .withColumn(\"hour_of_day\", hour(col(\"pickup_datetime\"))) \\\n",
        "       .drop(\"key\")\n",
        "\n",
        "df_1.printSchema()"
      ]
    },
    {
      "cell_type": "code",
      "execution_count": null,
      "metadata": {
        "colab": {
          "base_uri": "https://localhost:8080/"
        },
        "id": "_2MohoNjjjC4",
        "outputId": "3a54419d-e8c8-46e7-a3c4-c01e690569d6"
      },
      "outputs": [
        {
          "output_type": "stream",
          "name": "stdout",
          "text": [
            "+-----------+-------------------+----------------+---------------+-----------------+----------------+---------------+----+-----+---+-----------+-----------+\n",
            "|fare_amount|    pickup_datetime|pickup_longitude|pickup_latitude|dropoff_longitude|dropoff_latitude|passenger_count|year|month|day|day_of_week|hour_of_day|\n",
            "+-----------+-------------------+----------------+---------------+-----------------+----------------+---------------+----+-----+---+-----------+-----------+\n",
            "|        4.5|2009-06-15 17:26:21|      -73.844311|      40.721319|        -73.84161|       40.712278|              1|2009|    6| 15|          1|         17|\n",
            "|       16.9|2010-01-05 16:52:16|      -74.016048|      40.711303|       -73.979268|       40.782004|              1|2010|    1|  5|          2|         16|\n",
            "|        5.7|2011-08-18 00:35:00|      -73.982738|       40.76127|       -73.991242|       40.750562|              2|2011|    8| 18|          4|          0|\n",
            "|        7.7|2012-04-21 04:30:42|       -73.98713|      40.733143|       -73.991567|       40.758092|              1|2012|    4| 21|          6|          4|\n",
            "|        5.3|2010-03-09 07:51:00|      -73.968095|      40.768008|       -73.956655|       40.783762|              1|2010|    3|  9|          2|          7|\n",
            "|       12.1|2011-01-06 09:50:45|      -74.000964|       40.73163|       -73.972892|       40.758233|              1|2011|    1|  6|          4|          9|\n",
            "|        7.5|2012-11-20 20:35:00|      -73.980002|      40.751662|       -73.973802|       40.764842|              1|2012|   11| 20|          2|         20|\n",
            "|       16.5|2012-01-04 17:22:00|        -73.9513|      40.774138|       -73.990095|       40.751048|              1|2012|    1|  4|          3|         17|\n",
            "|        9.0|2012-12-03 13:10:00|      -74.006462|      40.726713|       -73.993078|       40.731628|              1|2012|   12|  3|          1|         13|\n",
            "|        8.9|2009-09-02 01:11:00|      -73.980658|      40.733873|        -73.99154|       40.758138|              2|2009|    9|  2|          3|          1|\n",
            "+-----------+-------------------+----------------+---------------+-----------------+----------------+---------------+----+-----+---+-----------+-----------+\n",
            "only showing top 10 rows\n",
            "\n"
          ]
        }
      ],
      "source": [
        "df_1.show(10)"
      ]
    },
    {
      "cell_type": "markdown",
      "metadata": {
        "id": "4C8bwEkQ5Jj3"
      },
      "source": [
        "# Exploratory Data Analysis (EDA)"
      ]
    },
    {
      "cell_type": "code",
      "execution_count": null,
      "metadata": {
        "id": "2hLVPC6aiu2V"
      },
      "outputs": [],
      "source": [
        "# create tempurarty view to execute sql queries\n",
        "df_1.createOrReplaceTempView(\"NYC_taxi_data\")"
      ]
    },
    {
      "cell_type": "code",
      "execution_count": null,
      "metadata": {
        "id": "yAu1OILmnUHa",
        "colab": {
          "base_uri": "https://localhost:8080/"
        },
        "outputId": "8d34a788-5f21-4956-db39-c7180e3f5c2e"
      },
      "outputs": [
        {
          "output_type": "stream",
          "name": "stdout",
          "text": [
            "+-----------------+------------------+------------------+--------------------+-------------------+---------------------+--------------------+-------------------+\n",
            "|  avg_fare_amount|median_fare_amount|stddev_fare_amount|avg_pickup_longitude|avg_pickup_latitude|avg_dropoff_longitude|avg_dropoff_latitude|avg_passenger_count|\n",
            "+-----------------+------------------+------------------+--------------------+-------------------+---------------------+--------------------+-------------------+\n",
            "|8.926488079866862|               8.0| 4.139180596976856|  -72.53942610644788| 39.942037382935204|   -72.53451246878512|  39.940754741415326| 1.6849062927534162|\n",
            "+-----------------+------------------+------------------+--------------------+-------------------+---------------------+--------------------+-------------------+\n",
            "\n"
          ]
        }
      ],
      "source": [
        "# Mean, median, and standard deviation for numerical columns\n",
        "summery_stats = \"\"\"\n",
        "SELECT\n",
        "    AVG(fare_amount) AS avg_fare_amount,\n",
        "    PERCENTILE_APPROX(fare_amount, 0.5) AS median_fare_amount,\n",
        "    STDDEV(fare_amount) AS stddev_fare_amount,\n",
        "    AVG(pickup_longitude) AS avg_pickup_longitude,\n",
        "    AVG(pickup_latitude) AS avg_pickup_latitude,\n",
        "    AVG(dropoff_longitude) AS avg_dropoff_longitude,\n",
        "    AVG(dropoff_latitude) AS avg_dropoff_latitude,\n",
        "    AVG(passenger_count) AS avg_passenger_count\n",
        "FROM NYC_taxi_data\n",
        "\"\"\"\n",
        "summary_stats = spark.sql(summery_stats)\n",
        "summary_stats.show()"
      ]
    },
    {
      "cell_type": "code",
      "execution_count": null,
      "metadata": {
        "id": "oGK92oSlovsa",
        "colab": {
          "base_uri": "https://localhost:8080/"
        },
        "outputId": "73182d07-06b2-436f-e0b1-5dcd1fa98dc2"
      },
      "outputs": [
        {
          "output_type": "stream",
          "name": "stdout",
          "text": [
            "+-----------+----------+\n",
            "|hour_of_day|trip_count|\n",
            "+-----------+----------+\n",
            "|         19|     11557|\n",
            "|         18|     11220|\n",
            "|         20|     10871|\n",
            "|         21|     10551|\n",
            "|         22|     10253|\n",
            "|         14|      9121|\n",
            "|         12|      9023|\n",
            "|         23|      8993|\n",
            "|         17|      8907|\n",
            "|         13|      8841|\n",
            "|          9|      8714|\n",
            "|         11|      8577|\n",
            "|         15|      8523|\n",
            "|          8|      8306|\n",
            "|         10|      8203|\n",
            "|         16|      7238|\n",
            "|          0|      7074|\n",
            "|          7|      6748|\n",
            "|          1|      5150|\n",
            "|          2|      3990|\n",
            "+-----------+----------+\n",
            "only showing top 20 rows\n",
            "\n"
          ]
        }
      ],
      "source": [
        "# which time of the day is the busiest\n",
        "busiest_hour = \"\"\"\n",
        "SELECT\n",
        "    hour_of_day,\n",
        "    COUNT(*) AS trip_count\n",
        "FROM NYC_taxi_data\n",
        "GROUP BY hour_of_day\n",
        "ORDER BY trip_count DESC\n",
        "\"\"\"\n",
        "busiest_hour = spark.sql(busiest_hour)\n",
        "busiest_hour.show()"
      ]
    },
    {
      "cell_type": "code",
      "execution_count": null,
      "metadata": {
        "id": "mkBCPR7zqlj8",
        "colab": {
          "base_uri": "https://localhost:8080/"
        },
        "outputId": "1db8babf-fe63-43c4-f0f6-e58e0e1f5158"
      },
      "outputs": [
        {
          "output_type": "stream",
          "name": "stdout",
          "text": [
            "+-----------+----------+\n",
            "|day_of_week|trip_count|\n",
            "+-----------+----------+\n",
            "|          5|     28209|\n",
            "|          6|     27989|\n",
            "|          4|     26967|\n",
            "|          3|     26543|\n",
            "|          2|     25445|\n",
            "|          7|     23534|\n",
            "|          1|     23316|\n",
            "+-----------+----------+\n",
            "\n"
          ]
        }
      ],
      "source": [
        "# which day of the week is the busiest day\n",
        "busiest_day_of_week = \"\"\"\n",
        "SELECT\n",
        "    day_of_week,\n",
        "    COUNT(*) AS trip_count\n",
        "FROM NYC_taxi_data\n",
        "GROUP BY day_of_week\n",
        "ORDER BY trip_count DESC\n",
        "\"\"\"\n",
        "busiest_day_of_week = spark.sql(busiest_day_of_week)\n",
        "busiest_day_of_week.show()"
      ]
    },
    {
      "cell_type": "code",
      "execution_count": null,
      "metadata": {
        "id": "Qk8fKUb6rfgK",
        "colab": {
          "base_uri": "https://localhost:8080/"
        },
        "outputId": "b7934fc5-a426-400e-cee7-ba74b8772b92"
      },
      "outputs": [
        {
          "output_type": "stream",
          "name": "stdout",
          "text": [
            "+----+-----+---+-----------------+----------+\n",
            "|year|month|day|     average_fare|trip_count|\n",
            "+----+-----+---+-----------------+----------+\n",
            "|2009|    1|  1|8.135714285714291|        70|\n",
            "|2009|    1|  2| 7.20149253731343|        67|\n",
            "|2009|    1|  3|8.252941176470587|        68|\n",
            "|2009|    1|  4|8.080952380952382|        63|\n",
            "|2009|    1|  5|8.450877192982459|        57|\n",
            "|2009|    1|  6|7.482278481012662|        79|\n",
            "|2009|    1|  7| 7.56830985915493|        71|\n",
            "|2009|    1|  8|7.551428571428573|        70|\n",
            "|2009|    1|  9| 7.98529411764706|       102|\n",
            "|2009|    1| 10|7.771212121212122|        66|\n",
            "|2009|    1| 11| 8.15223880597015|        67|\n",
            "|2009|    1| 12|8.119696969696967|        66|\n",
            "|2009|    1| 13|8.377848101265823|        79|\n",
            "|2009|    1| 14|7.913333333333334|        90|\n",
            "|2009|    1| 15|8.394512195121951|        82|\n",
            "|2009|    1| 16|8.294565217391305|        92|\n",
            "|2009|    1| 17|8.048192771084338|        83|\n",
            "|2009|    1| 18| 7.89344262295082|        61|\n",
            "|2009|    1| 19|7.435135135135134|        74|\n",
            "|2009|    1| 20|7.318421052631578|        76|\n",
            "+----+-----+---+-----------------+----------+\n",
            "only showing top 20 rows\n",
            "\n"
          ]
        }
      ],
      "source": [
        "# daily trend: average fare amount and trip count per day\n",
        "daily_trends = spark.sql(\"\"\"\n",
        "    SELECT year, month, day,\n",
        "           AVG(fare_amount) AS average_fare,\n",
        "           COUNT(*) AS trip_count\n",
        "    FROM NYC_taxi_data\n",
        "    GROUP BY year, month, day\n",
        "    ORDER BY year, month, day\n",
        "\"\"\")\n",
        "daily_trends.show()\n"
      ]
    },
    {
      "cell_type": "code",
      "source": [
        "# weekly average fare and trip count by day of the week\n",
        "weekly_trends = spark.sql(\"\"\"\n",
        "    SELECT day_of_week,\n",
        "           AVG(fare_amount) AS average_fare,\n",
        "           COUNT(*) AS trip_count\n",
        "    FROM NYC_taxi_data\n",
        "    GROUP BY day_of_week\n",
        "    ORDER BY day_of_week\n",
        "\"\"\")\n",
        "weekly_trends.show()\n"
      ],
      "metadata": {
        "id": "Y71kV05s3jiK",
        "colab": {
          "base_uri": "https://localhost:8080/"
        },
        "outputId": "693f1a98-91fc-48e5-b1ff-e6560d893c96"
      },
      "execution_count": null,
      "outputs": [
        {
          "output_type": "stream",
          "name": "stdout",
          "text": [
            "+-----------+-----------------+----------+\n",
            "|day_of_week|     average_fare|trip_count|\n",
            "+-----------+-----------------+----------+\n",
            "|          1|8.674797135014547|     23316|\n",
            "|          2|8.838727058361219|     25445|\n",
            "|          3|8.925659119165134|     26543|\n",
            "|          4| 8.99640449438205|     26967|\n",
            "|          5|9.029982984154065|     28209|\n",
            "|          6|9.018290399799902|     27989|\n",
            "|          7|  8.9583198776239|     23534|\n",
            "+-----------+-----------------+----------+\n",
            "\n"
          ]
        }
      ]
    },
    {
      "cell_type": "markdown",
      "metadata": {
        "id": "KoWF6hMB5mm6"
      },
      "source": [
        "#Feature Engineering and Feature Selection"
      ]
    },
    {
      "cell_type": "code",
      "source": [
        "df_1=df_1.drop(\"pickup_datetime\")"
      ],
      "metadata": {
        "id": "TKgOIQa9CBYr"
      },
      "execution_count": null,
      "outputs": []
    },
    {
      "cell_type": "code",
      "source": [
        "# select features and target variable\n",
        "feature_columns = [\"pickup_longitude\", \"pickup_latitude\", \"dropoff_longitude\", \"dropoff_latitude\",\n",
        "                   \"passenger_count\", \"month\", \"day\", \"day_of_week\", \"hour_of_day\"]\n",
        "target_column = \"fare_amount\""
      ],
      "metadata": {
        "id": "iZWPb-Zm4r5G"
      },
      "execution_count": null,
      "outputs": []
    },
    {
      "cell_type": "code",
      "source": [
        "# create feature vector\n",
        "assembler = VectorAssembler(inputCols=feature_columns, outputCol=\"features\")\n",
        "data = assembler.transform(df_1)"
      ],
      "metadata": {
        "id": "Q2NGgjZ05A8b"
      },
      "execution_count": null,
      "outputs": []
    },
    {
      "cell_type": "markdown",
      "metadata": {
        "id": "G3a_bHeJ5mpN"
      },
      "source": [
        "# Split Data"
      ]
    },
    {
      "cell_type": "code",
      "source": [
        "final_data = data.select(\"features\", \"fare_amount\")\n",
        "final_data.show(10)"
      ],
      "metadata": {
        "colab": {
          "base_uri": "https://localhost:8080/"
        },
        "id": "Z3j52Pxa1Cts",
        "outputId": "0234f700-4272-444f-c7ab-d5a74b4d8a13"
      },
      "execution_count": null,
      "outputs": [
        {
          "output_type": "stream",
          "name": "stdout",
          "text": [
            "+--------------------+-----------+\n",
            "|            features|fare_amount|\n",
            "+--------------------+-----------+\n",
            "|[-73.844311,40.72...|        4.5|\n",
            "|[-74.016048,40.71...|       16.9|\n",
            "|[-73.982738,40.76...|        5.7|\n",
            "|[-73.98713,40.733...|        7.7|\n",
            "|[-73.968095,40.76...|        5.3|\n",
            "|[-74.000964,40.73...|       12.1|\n",
            "|[-73.980002,40.75...|        7.5|\n",
            "|[-73.9513,40.7741...|       16.5|\n",
            "|[-74.006462,40.72...|        9.0|\n",
            "|[-73.980658,40.73...|        8.9|\n",
            "+--------------------+-----------+\n",
            "only showing top 10 rows\n",
            "\n"
          ]
        }
      ]
    },
    {
      "cell_type": "code",
      "source": [
        "# split the data into training and testing sets (70% training, 30% testing)\n",
        "train_data, test_data = final_data.randomSplit([0.7, 0.3], seed=42)"
      ],
      "metadata": {
        "id": "25T3IZSb497e"
      },
      "execution_count": null,
      "outputs": []
    },
    {
      "cell_type": "code",
      "source": [
        "train_data.show(10)"
      ],
      "metadata": {
        "colab": {
          "base_uri": "https://localhost:8080/"
        },
        "id": "C4lljIzh0eAn",
        "outputId": "558834c5-d325-407d-cb6e-b543adcc3833"
      },
      "execution_count": null,
      "outputs": [
        {
          "output_type": "stream",
          "name": "stdout",
          "text": [
            "+--------------------+-----------+\n",
            "|            features|fare_amount|\n",
            "+--------------------+-----------+\n",
            "|(9,[4,5,6,7],[1.0...|        6.6|\n",
            "|(9,[4,5,6,7],[1.0...|        6.5|\n",
            "|(9,[4,5,6,7],[1.0...|       15.0|\n",
            "|(9,[4,5,6,7],[1.0...|        8.6|\n",
            "|(9,[4,5,6,7],[1.0...|        7.3|\n",
            "|(9,[4,5,6,7],[1.0...|        4.1|\n",
            "|(9,[4,5,6,7],[1.0...|       16.1|\n",
            "|(9,[4,5,6,7],[1.0...|        9.5|\n",
            "|(9,[4,5,6,7],[1.0...|        4.9|\n",
            "|(9,[4,5,6,7],[1.0...|        9.0|\n",
            "+--------------------+-----------+\n",
            "only showing top 10 rows\n",
            "\n"
          ]
        }
      ]
    },
    {
      "cell_type": "markdown",
      "metadata": {
        "id": "vOqVJPzl5msq"
      },
      "source": [
        "# Model Selection and Training"
      ]
    },
    {
      "cell_type": "code",
      "source": [
        "# initialize the Linear Regression model\n",
        "lr = LinearRegression(featuresCol=\"features\", labelCol=\"fare_amount\")"
      ],
      "metadata": {
        "id": "WtK8pcAp5ZE-"
      },
      "execution_count": null,
      "outputs": []
    },
    {
      "cell_type": "code",
      "source": [
        "# define the parameter grid for Linear Regression\n",
        "paramGrid = ParamGridBuilder() \\\n",
        "    .addGrid(lr.regParam, [0.01, 0.1, 0.5]) \\\n",
        "    .addGrid(lr.elasticNetParam, [0.0, 0.5, 1.0]) \\\n",
        "    .build()"
      ],
      "metadata": {
        "id": "Nt61ZsAf62EA"
      },
      "execution_count": null,
      "outputs": []
    },
    {
      "cell_type": "code",
      "source": [
        "# Evaluate model\n",
        "lrevaluator = RegressionEvaluator(predictionCol=\"prediction\", labelCol=\"fare_amount\", metricName=\"rmse\")\n",
        "\n",
        "# Create 3-fold CrossValidator\n",
        "lrcv = CrossValidator(estimator = lr,\n",
        "                    estimatorParamMaps = paramGrid,\n",
        "                    evaluator = lrevaluator,\n",
        "                    numFolds = 3)"
      ],
      "metadata": {
        "id": "bGHBRKpC692m"
      },
      "execution_count": null,
      "outputs": []
    },
    {
      "cell_type": "code",
      "source": [
        "# fit the model\n",
        "cv_model = lrcv.fit(train_data)"
      ],
      "metadata": {
        "id": "TKdBwKbI5iqs"
      },
      "execution_count": 38,
      "outputs": []
    },
    {
      "cell_type": "markdown",
      "metadata": {
        "id": "De5xFR5N5vxw"
      },
      "source": [
        "# Model Evaluation"
      ]
    },
    {
      "cell_type": "code",
      "source": [
        "# get predictions from the best model\n",
        "predictions = cv_model.transform(test_data)\n",
        "\n",
        "# evaluate the best model using RMSE\n",
        "rmse = lrevaluator.evaluate(predictions)\n",
        "print(f\"Best Model's RMSE on test data: {rmse}\")\n",
        "\n",
        "# # retrieve the best model's parameters\n",
        "# best_model = cv_model.bestModel.stages[-1]\n",
        "# print(\"Best Model's regParam:\", best_model._java_obj.getRegParam())\n",
        "# print(\"Best Model's elasticNetParam:\", best_model._java_obj.getElasticNetParam())"
      ],
      "metadata": {
        "id": "0h9mMqF_5oO9",
        "colab": {
          "base_uri": "https://localhost:8080/"
        },
        "outputId": "43bcc340-c9dc-42b9-a1ad-72140beb9b23"
      },
      "execution_count": 40,
      "outputs": [
        {
          "output_type": "stream",
          "name": "stdout",
          "text": [
            "Best Model's RMSE on test data: 4.138002179017846\n"
          ]
        }
      ]
    },
    {
      "cell_type": "markdown",
      "metadata": {
        "id": "LXrSVs0O5v3J"
      },
      "source": [
        "# Saving the model"
      ]
    }
  ],
  "metadata": {
    "colab": {
      "provenance": []
    },
    "kernelspec": {
      "display_name": "Python 3",
      "name": "python3"
    },
    "language_info": {
      "name": "python"
    }
  },
  "nbformat": 4,
  "nbformat_minor": 0
}