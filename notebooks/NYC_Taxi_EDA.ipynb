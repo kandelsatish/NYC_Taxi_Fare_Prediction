{
  "cells": [
    {
      "cell_type": "markdown",
      "metadata": {
        "id": "Yd4HFBKe5JV_"
      },
      "source": [
        "# Importing  necessary liberaries"
      ]
    },
    {
      "cell_type": "code",
      "execution_count": 1,
      "metadata": {
        "id": "MAtnSqNQAPdh"
      },
      "outputs": [],
      "source": [
        "# !pip install pyspark"
      ]
    },
    {
      "cell_type": "code",
      "execution_count": 2,
      "metadata": {
        "id": "ugIDizZP6AkW"
      },
      "outputs": [],
      "source": [
        "import pandas as pd\n",
        "import numpy as np\n",
        "import matplotlib.pyplot as plt\n",
        "import seaborn as sns\n",
        "import warnings\n",
        "warnings.filterwarnings(\"ignore\")\n",
        "from pyspark.sql import SparkSession\n",
        "from pyspark.sql.functions import col,year, month, dayofmonth, date_format,hour,to_timestamp\n",
        "from pyspark.sql.types import *\n",
        "from google.colab import drive\n",
        "import zipfile\n",
        "from pyspark.ml.feature import VectorAssembler\n",
        "from pyspark.ml.regression import LinearRegression,RandomForestRegressor\n",
        "from pyspark.ml.evaluation import RegressionEvaluator\n",
        "from pyspark.ml import Pipeline\n",
        "from pyspark.ml.tuning import CrossValidator, ParamGridBuilder\n",
        "from pyspark.ml.evaluation import RegressionEvaluator\n",
        "import time\n"
      ]
    },
    {
      "cell_type": "code",
      "execution_count": 3,
      "metadata": {
        "colab": {
          "base_uri": "https://localhost:8080/",
          "height": 219
        },
        "id": "kLtj2l5xAH3Z",
        "outputId": "4fe4db0f-8613-493b-d418-9615d92b0709"
      },
      "outputs": [
        {
          "output_type": "execute_result",
          "data": {
            "text/plain": [
              "<pyspark.sql.session.SparkSession at 0x7d79a8110700>"
            ],
            "text/html": [
              "\n",
              "            <div>\n",
              "                <p><b>SparkSession - in-memory</b></p>\n",
              "                \n",
              "        <div>\n",
              "            <p><b>SparkContext</b></p>\n",
              "\n",
              "            <p><a href=\"http://39049cd1bf2f:4040\">Spark UI</a></p>\n",
              "\n",
              "            <dl>\n",
              "              <dt>Version</dt>\n",
              "                <dd><code>v3.5.3</code></dd>\n",
              "              <dt>Master</dt>\n",
              "                <dd><code>local[*]</code></dd>\n",
              "              <dt>AppName</dt>\n",
              "                <dd><code>NYC Taxi Fare Predction</code></dd>\n",
              "            </dl>\n",
              "        </div>\n",
              "        \n",
              "            </div>\n",
              "        "
            ]
          },
          "metadata": {},
          "execution_count": 3
        }
      ],
      "source": [
        "# creating the spark session\n",
        "spark=SparkSession.builder.appName(\"NYC Taxi Fare Predction\").getOrCreate()\n",
        "spark"
      ]
    },
    {
      "cell_type": "code",
      "execution_count": 4,
      "metadata": {
        "id": "FrTe2-2XpZlJ"
      },
      "outputs": [],
      "source": [
        "spark.conf.set(\"spark.sql.legacy.timeParserPolicy\", \"LEGACY\")"
      ]
    },
    {
      "cell_type": "markdown",
      "metadata": {
        "id": "4HQkivv-5JfE"
      },
      "source": [
        "# Data Loading and Inspection"
      ]
    },
    {
      "cell_type": "code",
      "execution_count": 5,
      "metadata": {
        "colab": {
          "base_uri": "https://localhost:8080/"
        },
        "id": "3okKAyw0C9B1",
        "outputId": "308a98a6-80c8-4e85-bf42-4aa40e4cf2e1"
      },
      "outputs": [
        {
          "output_type": "stream",
          "name": "stdout",
          "text": [
            "Drive already mounted at /content/drive; to attempt to forcibly remount, call drive.mount(\"/content/drive\", force_remount=True).\n"
          ]
        }
      ],
      "source": [
        "drive.mount('/content/drive')"
      ]
    },
    {
      "cell_type": "code",
      "execution_count": 6,
      "metadata": {
        "id": "waiNqK-K8woa"
      },
      "outputs": [],
      "source": [
        "# variables\n",
        "zip_path = \"/content/drive/MyDrive/NYC_taxi_data/new-york-city-taxi-fare-prediction.zip\"\n",
        "extract_path = \"/content/drive/MyDrive/NYC_taxi_data/\"\n",
        "train_file_path = \"/content/drive/MyDrive/NYC_taxi_data/train.csv\"\n",
        "test_file_path = \"/content/drive/MyDrive/NYC_taxi_data/test.csv\"\n",
        "number_of_rows = 200000\n",
        "min_latitude, max_latitude = -90, 90\n",
        "min_longitude, max_longitude = -180, 180"
      ]
    },
    {
      "cell_type": "code",
      "execution_count": 7,
      "metadata": {
        "id": "6zz4tezxNn4O"
      },
      "outputs": [],
      "source": [
        "# function to extract zip file\n",
        "def unzip_file(zip_path, extract_path):\n",
        "    with zipfile.ZipFile(zip_path, 'r') as zip_ref:\n",
        "        zip_ref.extractall(extract_path)\n",
        "        print(\"File unzipped successfully\")\n",
        "\n",
        "# unzip_file(zip_path, extract_path)"
      ]
    },
    {
      "cell_type": "code",
      "execution_count": 8,
      "metadata": {
        "colab": {
          "base_uri": "https://localhost:8080/"
        },
        "id": "hO_1syW3C_5g",
        "outputId": "7f78c10e-57ac-41c5-a365-9a981dda7da5"
      },
      "outputs": [
        {
          "output_type": "stream",
          "name": "stdout",
          "text": [
            "GCP-Coupons-Instructions.rtf\t\tsample_submission.csv  train.csv\n",
            "new-york-city-taxi-fare-prediction.zip\ttest.csv\n"
          ]
        }
      ],
      "source": [
        "!ls /content/drive/MyDrive/NYC_taxi_data/"
      ]
    },
    {
      "cell_type": "code",
      "execution_count": 9,
      "metadata": {
        "colab": {
          "base_uri": "https://localhost:8080/"
        },
        "id": "yZocIaO4D3cQ",
        "outputId": "61afa73c-3793-4b49-ef17-4035dc4c5b8a"
      },
      "outputs": [
        {
          "output_type": "stream",
          "name": "stdout",
          "text": [
            "Time taken to load the data: 203.45871663093567 seconds\n"
          ]
        }
      ],
      "source": [
        "# read csv file from google drive and show 10 rows from the dataframe\n",
        "start_time = time.time()\n",
        "df = spark.read.csv(train_file_path, header=True, inferSchema=True).limit(number_of_rows)\n",
        "end_time = time.time()\n",
        "print(f\"Time taken to load the data: {end_time - start_time} seconds\")"
      ]
    },
    {
      "cell_type": "code",
      "source": [
        "df_new = df.withColumn(\"pickup_datetime\", to_timestamp(col(\"pickup_datetime\"), \"yyyy-MM-dd HH:mm:ss\"))"
      ],
      "metadata": {
        "id": "xeMkR9jQs5Ep"
      },
      "execution_count": 10,
      "outputs": []
    },
    {
      "cell_type": "code",
      "source": [
        "df_new.show(10)"
      ],
      "metadata": {
        "colab": {
          "base_uri": "https://localhost:8080/"
        },
        "id": "oZLdUY0ptKXL",
        "outputId": "baeaf969-b4fd-4ff2-80e5-0c8c70c30bcd"
      },
      "execution_count": 11,
      "outputs": [
        {
          "output_type": "stream",
          "name": "stdout",
          "text": [
            "+--------------------+-----------+-------------------+----------------+---------------+-----------------+----------------+---------------+\n",
            "|                 key|fare_amount|    pickup_datetime|pickup_longitude|pickup_latitude|dropoff_longitude|dropoff_latitude|passenger_count|\n",
            "+--------------------+-----------+-------------------+----------------+---------------+-----------------+----------------+---------------+\n",
            "|2009-06-15 17:26:...|        4.5|2009-06-15 17:26:21|      -73.844311|      40.721319|        -73.84161|       40.712278|              1|\n",
            "|2010-01-05 16:52:...|       16.9|2010-01-05 16:52:16|      -74.016048|      40.711303|       -73.979268|       40.782004|              1|\n",
            "|2011-08-18 00:35:...|        5.7|2011-08-18 00:35:00|      -73.982738|       40.76127|       -73.991242|       40.750562|              2|\n",
            "|2012-04-21 04:30:...|        7.7|2012-04-21 04:30:42|       -73.98713|      40.733143|       -73.991567|       40.758092|              1|\n",
            "|2010-03-09 07:51:...|        5.3|2010-03-09 07:51:00|      -73.968095|      40.768008|       -73.956655|       40.783762|              1|\n",
            "|2011-01-06 09:50:...|       12.1|2011-01-06 09:50:45|      -74.000964|       40.73163|       -73.972892|       40.758233|              1|\n",
            "|2012-11-20 20:35:...|        7.5|2012-11-20 20:35:00|      -73.980002|      40.751662|       -73.973802|       40.764842|              1|\n",
            "|2012-01-04 17:22:...|       16.5|2012-01-04 17:22:00|        -73.9513|      40.774138|       -73.990095|       40.751048|              1|\n",
            "|2012-12-03 13:10:...|        9.0|2012-12-03 13:10:00|      -74.006462|      40.726713|       -73.993078|       40.731628|              1|\n",
            "|2009-09-02 01:11:...|        8.9|2009-09-02 01:11:00|      -73.980658|      40.733873|        -73.99154|       40.758138|              2|\n",
            "+--------------------+-----------+-------------------+----------------+---------------+-----------------+----------------+---------------+\n",
            "only showing top 10 rows\n",
            "\n"
          ]
        }
      ]
    },
    {
      "cell_type": "code",
      "execution_count": 12,
      "metadata": {
        "colab": {
          "base_uri": "https://localhost:8080/"
        },
        "id": "2Pg7amvTEKrw",
        "outputId": "d2cf8726-c1b6-4e5e-882d-b671407756ca"
      },
      "outputs": [
        {
          "output_type": "stream",
          "name": "stdout",
          "text": [
            "root\n",
            " |-- key: string (nullable = true)\n",
            " |-- fare_amount: double (nullable = true)\n",
            " |-- pickup_datetime: timestamp (nullable = true)\n",
            " |-- pickup_longitude: double (nullable = true)\n",
            " |-- pickup_latitude: double (nullable = true)\n",
            " |-- dropoff_longitude: double (nullable = true)\n",
            " |-- dropoff_latitude: double (nullable = true)\n",
            " |-- passenger_count: integer (nullable = true)\n",
            "\n"
          ]
        }
      ],
      "source": [
        "# check for the columns, data types and if there are any null values\n",
        "df_new.printSchema()"
      ]
    },
    {
      "cell_type": "code",
      "execution_count": 13,
      "metadata": {
        "colab": {
          "base_uri": "https://localhost:8080/"
        },
        "id": "dpu0_dGREyGN",
        "outputId": "aca8368f-67e3-48c0-ad75-03106d169409"
      },
      "outputs": [
        {
          "output_type": "stream",
          "name": "stdout",
          "text": [
            "Number of partitions: 1\n"
          ]
        }
      ],
      "source": [
        "# check for the number of partitons\n",
        "num_partitions = df_new.rdd.getNumPartitions()\n",
        "print(\"Number of partitions:\", num_partitions)"
      ]
    },
    {
      "cell_type": "code",
      "source": [
        "# repartitioning the dataframe\n",
        "df_new = df_new.repartition(10)"
      ],
      "metadata": {
        "id": "wfPr8jDcy3HX"
      },
      "execution_count": null,
      "outputs": []
    },
    {
      "cell_type": "code",
      "execution_count": 14,
      "metadata": {
        "colab": {
          "base_uri": "https://localhost:8080/"
        },
        "id": "SFrH42x8FqvM",
        "outputId": "999087a7-86ff-4e76-ec48-6fb2470a1d8b"
      },
      "outputs": [
        {
          "output_type": "stream",
          "name": "stdout",
          "text": [
            "Number of rows: 200000\n"
          ]
        }
      ],
      "source": [
        "# count number of rows\n",
        "row_count = df_new.count()\n",
        "print(\"Number of rows:\", row_count)"
      ]
    },
    {
      "cell_type": "code",
      "execution_count": 15,
      "metadata": {
        "colab": {
          "base_uri": "https://localhost:8080/"
        },
        "id": "yjeDPYuBGvrh",
        "outputId": "dbbdbba6-6f91-457e-9f15-97cceb72fe7d"
      },
      "outputs": [
        {
          "output_type": "stream",
          "name": "stdout",
          "text": [
            "+-------+--------------------+------------------+------------------+------------------+------------------+-----------------+------------------+\n",
            "|summary|                 key|       fare_amount|  pickup_longitude|   pickup_latitude| dropoff_longitude| dropoff_latitude|   passenger_count|\n",
            "+-------+--------------------+------------------+------------------+------------------+------------------+-----------------+------------------+\n",
            "|  count|              200000|            200000|            200000|            200000|            199999|           199999|            200000|\n",
            "|   mean|                NULL|11.342876950000601|-72.50612144955218|39.922325777255104|-72.51867346221218|39.92557945791384|          1.682445|\n",
            "| stddev|                NULL| 9.837854787330032|11.608096802996164|10.048946659938037|10.724225862534897|6.751120031010652|1.3067296429203594|\n",
            "|    min|2009-01-01 00:35:...|             -44.9|           -736.55|      -3116.285383|       -1251.19589|      -1189.61544|                 0|\n",
            "|    max|2015-06-30 23:28:...|             500.0|        2140.60116|       1703.092772|         40.851027|       404.616667|                 6|\n",
            "+-------+--------------------+------------------+------------------+------------------+------------------+-----------------+------------------+\n",
            "\n"
          ]
        }
      ],
      "source": [
        "# checking for the statistical summery\n",
        "summary_df =df_new.describe()\n",
        "summary_df.show()"
      ]
    },
    {
      "cell_type": "markdown",
      "metadata": {
        "id": "isJpOWYsRlgp"
      },
      "source": [
        "**The minimum** fare is in negative, which is clearly erroneous (fares should not be negative).\n",
        "**The maximum** fare is $93,963.36, which is extremely high and likely an outlier."
      ]
    },
    {
      "cell_type": "markdown",
      "metadata": {
        "id": "nuvmqkR55Jhc"
      },
      "source": [
        "# Data Cleaning"
      ]
    },
    {
      "cell_type": "code",
      "execution_count": 16,
      "metadata": {
        "id": "fl0Un7JqSQmj"
      },
      "outputs": [],
      "source": [
        "# drop the rows with the null columns\n",
        "df_new=df_new.na.drop()"
      ]
    },
    {
      "cell_type": "code",
      "execution_count": 17,
      "metadata": {
        "id": "Ajrvp5guGfPl"
      },
      "outputs": [],
      "source": [
        "# drop duplicates\n",
        "df_new=df_new.dropDuplicates()"
      ]
    },
    {
      "cell_type": "code",
      "execution_count": 18,
      "metadata": {
        "id": "SvBAxuQ8GfZz"
      },
      "outputs": [],
      "source": [
        "# filtering out the erroneous data\n",
        "df_1 = df_new.filter(col('fare_amount') >= 0) \\\n",
        "               .filter((col('passenger_count') > 0) & (col('passenger_count') < 7)) \\\n",
        "               .filter((col('pickup_longitude') >= min_latitude) & (col('pickup_longitude') <= max_latitude)) \\\n",
        "               .filter((col('pickup_latitude') >= min_longitude) & (col('pickup_latitude') <= max_longitude)) \\\n",
        "               .filter((col('dropoff_longitude') >= min_latitude) & (col('dropoff_longitude') <= max_latitude)) \\\n",
        "               .filter((col('dropoff_latitude') >= min_longitude) & (col('dropoff_latitude') <= max_longitude))\n",
        "\n",
        "# alternatively, df_new = df_new.where(col('fare_amount') >= 0)"
      ]
    },
    {
      "cell_type": "code",
      "execution_count": 19,
      "metadata": {
        "id": "tF3Xt0FHtCfA"
      },
      "outputs": [],
      "source": [
        "# removeing outlier\n",
        "q1 = df_1.approxQuantile(\"fare_amount\", [0.25], 0.01)[0]\n",
        "q3 = df_1.approxQuantile(\"fare_amount\", [0.75], 0.01)[0]\n",
        "iqr = q3 - q1\n",
        "\n",
        "# defining upper and the lower bound\n",
        "lower_bound = q1 - 1.5 * iqr\n",
        "upper_bound = q3 + 1.5 * iqr"
      ]
    },
    {
      "cell_type": "code",
      "execution_count": 20,
      "metadata": {
        "id": "uiTDIgmotJzl"
      },
      "outputs": [],
      "source": [
        "df_1 = df_1.filter(col('fare_amount') >= lower_bound) \\\n",
        "               .filter(col('fare_amount') <= upper_bound )"
      ]
    },
    {
      "cell_type": "code",
      "execution_count": 21,
      "metadata": {
        "colab": {
          "base_uri": "https://localhost:8080/"
        },
        "id": "_U4HCi8uGfk0",
        "outputId": "28a73829-44c0-4cd2-e062-e133522825b5"
      },
      "outputs": [
        {
          "output_type": "stream",
          "name": "stdout",
          "text": [
            "root\n",
            " |-- fare_amount: double (nullable = true)\n",
            " |-- pickup_datetime: timestamp (nullable = true)\n",
            " |-- pickup_longitude: double (nullable = true)\n",
            " |-- pickup_latitude: double (nullable = true)\n",
            " |-- dropoff_longitude: double (nullable = true)\n",
            " |-- dropoff_latitude: double (nullable = true)\n",
            " |-- passenger_count: integer (nullable = true)\n",
            " |-- year: integer (nullable = true)\n",
            " |-- month: integer (nullable = true)\n",
            " |-- day: integer (nullable = true)\n",
            " |-- day_of_week: integer (nullable = true)\n",
            " |-- hour_of_day: integer (nullable = true)\n",
            "\n"
          ]
        }
      ],
      "source": [
        "# extracting new columns from pickup_datetime\n",
        "df_1 = df_1.withColumn(\"year\", year(col(\"pickup_datetime\"))) \\\n",
        "       .withColumn(\"month\", month(col(\"pickup_datetime\"))) \\\n",
        "       .withColumn(\"day\", dayofmonth(col(\"pickup_datetime\"))) \\\n",
        "       .withColumn(\"day_of_week\", date_format(col(\"pickup_datetime\"), 'u').cast(IntegerType())) \\\n",
        "       .withColumn(\"hour_of_day\", hour(col(\"pickup_datetime\"))) \\\n",
        "       .drop(\"key\")\n",
        "\n",
        "df_1.printSchema()"
      ]
    },
    {
      "cell_type": "code",
      "execution_count": 22,
      "metadata": {
        "colab": {
          "base_uri": "https://localhost:8080/"
        },
        "id": "_2MohoNjjjC4",
        "outputId": "15497078-1020-4d16-bbfe-33a1bb9b84b8"
      },
      "outputs": [
        {
          "output_type": "stream",
          "name": "stdout",
          "text": [
            "+-----------+-------------------+----------------+---------------+-----------------+----------------+---------------+----+-----+---+-----------+-----------+\n",
            "|fare_amount|    pickup_datetime|pickup_longitude|pickup_latitude|dropoff_longitude|dropoff_latitude|passenger_count|year|month|day|day_of_week|hour_of_day|\n",
            "+-----------+-------------------+----------------+---------------+-----------------+----------------+---------------+----+-----+---+-----------+-----------+\n",
            "|        4.5|2009-06-15 17:26:21|      -73.844311|      40.721319|        -73.84161|       40.712278|              1|2009|    6| 15|          1|         17|\n",
            "|       16.9|2010-01-05 16:52:16|      -74.016048|      40.711303|       -73.979268|       40.782004|              1|2010|    1|  5|          2|         16|\n",
            "|        5.7|2011-08-18 00:35:00|      -73.982738|       40.76127|       -73.991242|       40.750562|              2|2011|    8| 18|          4|          0|\n",
            "|        7.7|2012-04-21 04:30:42|       -73.98713|      40.733143|       -73.991567|       40.758092|              1|2012|    4| 21|          6|          4|\n",
            "|        5.3|2010-03-09 07:51:00|      -73.968095|      40.768008|       -73.956655|       40.783762|              1|2010|    3|  9|          2|          7|\n",
            "|       12.1|2011-01-06 09:50:45|      -74.000964|       40.73163|       -73.972892|       40.758233|              1|2011|    1|  6|          4|          9|\n",
            "|        7.5|2012-11-20 20:35:00|      -73.980002|      40.751662|       -73.973802|       40.764842|              1|2012|   11| 20|          2|         20|\n",
            "|       16.5|2012-01-04 17:22:00|        -73.9513|      40.774138|       -73.990095|       40.751048|              1|2012|    1|  4|          3|         17|\n",
            "|        9.0|2012-12-03 13:10:00|      -74.006462|      40.726713|       -73.993078|       40.731628|              1|2012|   12|  3|          1|         13|\n",
            "|        8.9|2009-09-02 01:11:00|      -73.980658|      40.733873|        -73.99154|       40.758138|              2|2009|    9|  2|          3|          1|\n",
            "+-----------+-------------------+----------------+---------------+-----------------+----------------+---------------+----+-----+---+-----------+-----------+\n",
            "only showing top 10 rows\n",
            "\n"
          ]
        }
      ],
      "source": [
        "df_1.show(10)"
      ]
    },
    {
      "cell_type": "markdown",
      "metadata": {
        "id": "4C8bwEkQ5Jj3"
      },
      "source": [
        "# Exploratory Data Analysis (EDA)"
      ]
    },
    {
      "cell_type": "code",
      "execution_count": 23,
      "metadata": {
        "id": "2hLVPC6aiu2V"
      },
      "outputs": [],
      "source": [
        "# create tempurarty view to execute sql queries\n",
        "df_1.createOrReplaceTempView(\"NYC_taxi_data\")"
      ]
    },
    {
      "cell_type": "code",
      "execution_count": 24,
      "metadata": {
        "id": "yAu1OILmnUHa",
        "colab": {
          "base_uri": "https://localhost:8080/"
        },
        "outputId": "733fe0de-5ca7-469f-c363-777f054bdf49"
      },
      "outputs": [
        {
          "output_type": "stream",
          "name": "stdout",
          "text": [
            "+-----------------+------------------+------------------+--------------------+-------------------+---------------------+--------------------+-------------------+\n",
            "|  avg_fare_amount|median_fare_amount|stddev_fare_amount|avg_pickup_longitude|avg_pickup_latitude|avg_dropoff_longitude|avg_dropoff_latitude|avg_passenger_count|\n",
            "+-----------------+------------------+------------------+--------------------+-------------------+---------------------+--------------------+-------------------+\n",
            "|8.926488079866862|               8.0| 4.139180596976856|  -72.53942610644788| 39.942037382935204|   -72.53451246878512|  39.940754741415326| 1.6849062927534162|\n",
            "+-----------------+------------------+------------------+--------------------+-------------------+---------------------+--------------------+-------------------+\n",
            "\n"
          ]
        }
      ],
      "source": [
        "# Mean, median, and standard deviation for numerical columns\n",
        "summery_stats = \"\"\"\n",
        "SELECT\n",
        "    AVG(fare_amount) AS avg_fare_amount,\n",
        "    PERCENTILE_APPROX(fare_amount, 0.5) AS median_fare_amount,\n",
        "    STDDEV(fare_amount) AS stddev_fare_amount,\n",
        "    AVG(pickup_longitude) AS avg_pickup_longitude,\n",
        "    AVG(pickup_latitude) AS avg_pickup_latitude,\n",
        "    AVG(dropoff_longitude) AS avg_dropoff_longitude,\n",
        "    AVG(dropoff_latitude) AS avg_dropoff_latitude,\n",
        "    AVG(passenger_count) AS avg_passenger_count\n",
        "FROM NYC_taxi_data\n",
        "\"\"\"\n",
        "summary_stats = spark.sql(summery_stats)\n",
        "summary_stats.show()"
      ]
    },
    {
      "cell_type": "code",
      "execution_count": 25,
      "metadata": {
        "id": "oGK92oSlovsa",
        "colab": {
          "base_uri": "https://localhost:8080/"
        },
        "outputId": "75797b7c-a47b-4523-8f5b-d4ce68beaef8"
      },
      "outputs": [
        {
          "output_type": "stream",
          "name": "stdout",
          "text": [
            "+-----------+----------+\n",
            "|hour_of_day|trip_count|\n",
            "+-----------+----------+\n",
            "|         19|     11557|\n",
            "|         18|     11220|\n",
            "|         20|     10871|\n",
            "|         21|     10551|\n",
            "|         22|     10253|\n",
            "|         14|      9121|\n",
            "|         12|      9023|\n",
            "|         23|      8993|\n",
            "|         17|      8907|\n",
            "|         13|      8841|\n",
            "|          9|      8714|\n",
            "|         11|      8577|\n",
            "|         15|      8523|\n",
            "|          8|      8306|\n",
            "|         10|      8203|\n",
            "|         16|      7238|\n",
            "|          0|      7074|\n",
            "|          7|      6748|\n",
            "|          1|      5150|\n",
            "|          2|      3990|\n",
            "+-----------+----------+\n",
            "only showing top 20 rows\n",
            "\n"
          ]
        }
      ],
      "source": [
        "# which time of the day is the busiest\n",
        "busiest_hour = \"\"\"\n",
        "SELECT\n",
        "    hour_of_day,\n",
        "    COUNT(*) AS trip_count\n",
        "FROM NYC_taxi_data\n",
        "GROUP BY hour_of_day\n",
        "ORDER BY trip_count DESC\n",
        "\"\"\"\n",
        "busiest_hour = spark.sql(busiest_hour)\n",
        "busiest_hour.show()"
      ]
    },
    {
      "cell_type": "code",
      "execution_count": 26,
      "metadata": {
        "id": "mkBCPR7zqlj8",
        "colab": {
          "base_uri": "https://localhost:8080/"
        },
        "outputId": "9dcfbd54-31a8-44e6-b5de-b8c2cd750900"
      },
      "outputs": [
        {
          "output_type": "stream",
          "name": "stdout",
          "text": [
            "+-----------+----------+\n",
            "|day_of_week|trip_count|\n",
            "+-----------+----------+\n",
            "|          5|     28209|\n",
            "|          6|     27989|\n",
            "|          4|     26967|\n",
            "|          3|     26543|\n",
            "|          2|     25445|\n",
            "|          7|     23534|\n",
            "|          1|     23316|\n",
            "+-----------+----------+\n",
            "\n"
          ]
        }
      ],
      "source": [
        "# which day of the week is the busiest day\n",
        "busiest_day_of_week = \"\"\"\n",
        "SELECT\n",
        "    day_of_week,\n",
        "    COUNT(*) AS trip_count\n",
        "FROM NYC_taxi_data\n",
        "GROUP BY day_of_week\n",
        "ORDER BY trip_count DESC\n",
        "\"\"\"\n",
        "busiest_day_of_week = spark.sql(busiest_day_of_week)\n",
        "busiest_day_of_week.show()"
      ]
    },
    {
      "cell_type": "code",
      "execution_count": 27,
      "metadata": {
        "id": "Qk8fKUb6rfgK",
        "colab": {
          "base_uri": "https://localhost:8080/"
        },
        "outputId": "390fc73f-f9c8-49e3-adc1-cf8c1f84089e"
      },
      "outputs": [
        {
          "output_type": "stream",
          "name": "stdout",
          "text": [
            "+----+-----+---+-----------------+----------+\n",
            "|year|month|day|     average_fare|trip_count|\n",
            "+----+-----+---+-----------------+----------+\n",
            "|2009|    1|  1|8.135714285714291|        70|\n",
            "|2009|    1|  2| 7.20149253731343|        67|\n",
            "|2009|    1|  3|8.252941176470587|        68|\n",
            "|2009|    1|  4|8.080952380952382|        63|\n",
            "|2009|    1|  5|8.450877192982459|        57|\n",
            "|2009|    1|  6|7.482278481012662|        79|\n",
            "|2009|    1|  7| 7.56830985915493|        71|\n",
            "|2009|    1|  8|7.551428571428573|        70|\n",
            "|2009|    1|  9| 7.98529411764706|       102|\n",
            "|2009|    1| 10|7.771212121212122|        66|\n",
            "|2009|    1| 11| 8.15223880597015|        67|\n",
            "|2009|    1| 12|8.119696969696967|        66|\n",
            "|2009|    1| 13|8.377848101265823|        79|\n",
            "|2009|    1| 14|7.913333333333334|        90|\n",
            "|2009|    1| 15|8.394512195121951|        82|\n",
            "|2009|    1| 16|8.294565217391305|        92|\n",
            "|2009|    1| 17|8.048192771084338|        83|\n",
            "|2009|    1| 18| 7.89344262295082|        61|\n",
            "|2009|    1| 19|7.435135135135134|        74|\n",
            "|2009|    1| 20|7.318421052631578|        76|\n",
            "+----+-----+---+-----------------+----------+\n",
            "only showing top 20 rows\n",
            "\n"
          ]
        }
      ],
      "source": [
        "# daily trend: average fare amount and trip count per day\n",
        "daily_trends = spark.sql(\"\"\"\n",
        "    SELECT year, month, day,\n",
        "           AVG(fare_amount) AS average_fare,\n",
        "           COUNT(*) AS trip_count\n",
        "    FROM NYC_taxi_data\n",
        "    GROUP BY year, month, day\n",
        "    ORDER BY year, month, day\n",
        "\"\"\")\n",
        "daily_trends.show()\n"
      ]
    },
    {
      "cell_type": "code",
      "source": [
        "# weekly average fare and trip count by day of the week\n",
        "weekly_trends = spark.sql(\"\"\"\n",
        "    SELECT day_of_week,\n",
        "           AVG(fare_amount) AS average_fare,\n",
        "           COUNT(*) AS trip_count\n",
        "    FROM NYC_taxi_data\n",
        "    GROUP BY day_of_week\n",
        "    ORDER BY day_of_week\n",
        "\"\"\")\n",
        "weekly_trends.show()\n"
      ],
      "metadata": {
        "id": "Y71kV05s3jiK",
        "colab": {
          "base_uri": "https://localhost:8080/"
        },
        "outputId": "d71b8fa3-f9c1-45c5-9932-25392f42b7b4"
      },
      "execution_count": 28,
      "outputs": [
        {
          "output_type": "stream",
          "name": "stdout",
          "text": [
            "+-----------+-----------------+----------+\n",
            "|day_of_week|     average_fare|trip_count|\n",
            "+-----------+-----------------+----------+\n",
            "|          1|8.674797135014547|     23316|\n",
            "|          2|8.838727058361219|     25445|\n",
            "|          3|8.925659119165134|     26543|\n",
            "|          4| 8.99640449438205|     26967|\n",
            "|          5|9.029982984154065|     28209|\n",
            "|          6|9.018290399799902|     27989|\n",
            "|          7|  8.9583198776239|     23534|\n",
            "+-----------+-----------------+----------+\n",
            "\n"
          ]
        }
      ]
    },
    {
      "cell_type": "markdown",
      "metadata": {
        "id": "KoWF6hMB5mm6"
      },
      "source": [
        "#Feature Engineering and Feature Selection"
      ]
    },
    {
      "cell_type": "code",
      "source": [
        "df_1=df_1.drop(\"pickup_datetime\")"
      ],
      "metadata": {
        "id": "TKgOIQa9CBYr"
      },
      "execution_count": 29,
      "outputs": []
    },
    {
      "cell_type": "code",
      "source": [
        "# select features and target variable\n",
        "feature_columns = [\"pickup_longitude\", \"pickup_latitude\", \"dropoff_longitude\", \"dropoff_latitude\",\n",
        "                   \"passenger_count\", \"month\", \"day\", \"day_of_week\", \"hour_of_day\"]\n",
        "target_column = \"fare_amount\""
      ],
      "metadata": {
        "id": "iZWPb-Zm4r5G"
      },
      "execution_count": 30,
      "outputs": []
    },
    {
      "cell_type": "code",
      "source": [
        "# create feature vector\n",
        "assembler = VectorAssembler(inputCols=feature_columns, outputCol=\"features\")\n",
        "data = assembler.transform(df_1)"
      ],
      "metadata": {
        "id": "Q2NGgjZ05A8b"
      },
      "execution_count": 31,
      "outputs": []
    },
    {
      "cell_type": "markdown",
      "metadata": {
        "id": "G3a_bHeJ5mpN"
      },
      "source": [
        "# Split Data"
      ]
    },
    {
      "cell_type": "code",
      "source": [
        "final_data = data.select(\"features\", \"fare_amount\")\n",
        "final_data.show(10)"
      ],
      "metadata": {
        "colab": {
          "base_uri": "https://localhost:8080/"
        },
        "id": "Z3j52Pxa1Cts",
        "outputId": "0aa5fe73-a1b3-49ae-bc8b-546a5b0b569b"
      },
      "execution_count": 32,
      "outputs": [
        {
          "output_type": "stream",
          "name": "stdout",
          "text": [
            "+--------------------+-----------+\n",
            "|            features|fare_amount|\n",
            "+--------------------+-----------+\n",
            "|[-73.844311,40.72...|        4.5|\n",
            "|[-74.016048,40.71...|       16.9|\n",
            "|[-73.982738,40.76...|        5.7|\n",
            "|[-73.98713,40.733...|        7.7|\n",
            "|[-73.968095,40.76...|        5.3|\n",
            "|[-74.000964,40.73...|       12.1|\n",
            "|[-73.980002,40.75...|        7.5|\n",
            "|[-73.9513,40.7741...|       16.5|\n",
            "|[-74.006462,40.72...|        9.0|\n",
            "|[-73.980658,40.73...|        8.9|\n",
            "+--------------------+-----------+\n",
            "only showing top 10 rows\n",
            "\n"
          ]
        }
      ]
    },
    {
      "cell_type": "code",
      "source": [
        "# split the data into training and testing sets (70% training, 30% testing)\n",
        "train_data, test_data = df_1.randomSplit([0.7, 0.3], seed=42)"
      ],
      "metadata": {
        "id": "25T3IZSb497e"
      },
      "execution_count": 40,
      "outputs": []
    },
    {
      "cell_type": "code",
      "source": [
        "train_data.show(10)"
      ],
      "metadata": {
        "colab": {
          "base_uri": "https://localhost:8080/"
        },
        "id": "C4lljIzh0eAn",
        "outputId": "5dbdb439-8814-40b2-875c-32dc1184f83c"
      },
      "execution_count": 41,
      "outputs": [
        {
          "output_type": "stream",
          "name": "stdout",
          "text": [
            "+-----------+------------------+------------------+------------------+------------------+---------------+----+-----+---+-----------+-----------+\n",
            "|fare_amount|  pickup_longitude|   pickup_latitude| dropoff_longitude|  dropoff_latitude|passenger_count|year|month|day|day_of_week|hour_of_day|\n",
            "+-----------+------------------+------------------+------------------+------------------+---------------+----+-----+---+-----------+-----------+\n",
            "|        0.0|-74.07792663574219| 40.80571365356445|-74.07791900634766|40.805721282958984|              1|2015|    5| 15|          5|         21|\n",
            "|        0.0|        -73.987115|         40.738808|        -74.005911|          40.71396|              1|2010|    2| 15|          1|         14|\n",
            "|        0.0|         -73.48448|         40.813401|        -73.484442|         40.813323|              2|2014|    6| 29|          7|         16|\n",
            "|        0.0|               0.0|               0.0|               0.0|               0.0|              2|2013|    8| 21|          3|         21|\n",
            "|       0.01|-73.98033142089844| 40.77053451538086| -73.9819107055664| 40.77150344848633|              1|2015|    2| 19|          4|          6|\n",
            "|       0.01|-73.89054870605469|40.719757080078125|-73.84229278564453| 40.66880416870117|              2|2015|    2| 27|          5|         15|\n",
            "|        2.5|        -74.031369|         40.748268|        -74.031394|         40.748187|              1|2012|    8| 30|          4|         21|\n",
            "|        2.5|        -74.030525|         40.748424|        -74.030494|         40.748417|              1|2012|   12| 17|          1|         22|\n",
            "|        2.5|        -74.030283|         40.625031|        -74.030282|         40.625035|              1|2012|    1|  4|          3|         16|\n",
            "|        2.5|        -74.015593|         40.704307|        -74.016735|         40.704437|              5|2012|    6| 12|          2|          8|\n",
            "+-----------+------------------+------------------+------------------+------------------+---------------+----+-----+---+-----------+-----------+\n",
            "only showing top 10 rows\n",
            "\n"
          ]
        }
      ]
    },
    {
      "cell_type": "markdown",
      "metadata": {
        "id": "vOqVJPzl5msq"
      },
      "source": [
        "# Model Selection and Training"
      ]
    },
    {
      "cell_type": "code",
      "source": [
        "# initialize the Linear Regression model\n",
        "lr = LinearRegression(featuresCol=\"features\", labelCol=\"fare_amount\")"
      ],
      "metadata": {
        "id": "WtK8pcAp5ZE-"
      },
      "execution_count": 42,
      "outputs": []
    },
    {
      "cell_type": "code",
      "source": [
        "# define the parameter grid for Linear Regression\n",
        "paramGrid = ParamGridBuilder() \\\n",
        "    .addGrid(lr.regParam, [0.01, 0.1, 0.5]) \\\n",
        "    .addGrid(lr.elasticNetParam, [0.0, 0.5, 1.0]) \\\n",
        "    .build()"
      ],
      "metadata": {
        "id": "Nt61ZsAf62EA"
      },
      "execution_count": 43,
      "outputs": []
    },
    {
      "cell_type": "code",
      "source": [
        "# Evaluate model\n",
        "lrevaluator = RegressionEvaluator(predictionCol=\"prediction\", labelCol=\"fare_amount\", metricName=\"rmse\")\n",
        "\n",
        "# Create 3-fold CrossValidator\n",
        "lrcv = CrossValidator(estimator = lr,\n",
        "                    estimatorParamMaps = paramGrid,\n",
        "                    evaluator = lrevaluator,\n",
        "                    numFolds = 3)"
      ],
      "metadata": {
        "id": "bGHBRKpC692m"
      },
      "execution_count": 44,
      "outputs": []
    },
    {
      "cell_type": "code",
      "source": [
        "pipeline=Pipeline(stages=[assembler,lrcv])"
      ],
      "metadata": {
        "id": "8Lw0ZI56mPnB"
      },
      "execution_count": 45,
      "outputs": []
    },
    {
      "cell_type": "code",
      "source": [
        "# fit the model\n",
        "pipeline_model = pipeline.fit(train_data)"
      ],
      "metadata": {
        "id": "TKdBwKbI5iqs"
      },
      "execution_count": 46,
      "outputs": []
    },
    {
      "cell_type": "markdown",
      "metadata": {
        "id": "De5xFR5N5vxw"
      },
      "source": [
        "# Model Evaluation"
      ]
    },
    {
      "cell_type": "code",
      "source": [
        "# get predictions from the best model\n",
        "predictions = pipeline_model.transform(test_data)\n",
        "\n",
        "# evaluate the best model using RMSE\n",
        "rmse = lrevaluator.evaluate(predictions)\n",
        "print(f\"Best Model's RMSE on test data: {rmse}\")"
      ],
      "metadata": {
        "id": "0h9mMqF_5oO9",
        "colab": {
          "base_uri": "https://localhost:8080/"
        },
        "outputId": "86185d72-9596-4ff0-b78f-e29d8291f74f"
      },
      "execution_count": 51,
      "outputs": [
        {
          "output_type": "stream",
          "name": "stdout",
          "text": [
            "Best Model's RMSE on test data: 4.125455532370255\n"
          ]
        }
      ]
    },
    {
      "cell_type": "code",
      "source": [
        "best_model = pipeline_model.stages[-1].bestModel\n",
        "best_param=best_model.extractParamMap()\n",
        "\n",
        "for param, value in best_param.items():\n",
        "    print(f\"{param.name}: {value}\")\n"
      ],
      "metadata": {
        "colab": {
          "base_uri": "https://localhost:8080/"
        },
        "id": "lG-29t8nwROf",
        "outputId": "f96d5d59-adf7-4f22-c960-010428d13df0"
      },
      "execution_count": 64,
      "outputs": [
        {
          "output_type": "stream",
          "name": "stdout",
          "text": [
            "aggregationDepth: 2\n",
            "elasticNetParam: 0.0\n",
            "epsilon: 1.35\n",
            "featuresCol: features\n",
            "fitIntercept: True\n",
            "labelCol: fare_amount\n",
            "loss: squaredError\n",
            "maxBlockSizeInMB: 0.0\n",
            "maxIter: 100\n",
            "predictionCol: prediction\n",
            "regParam: 0.1\n",
            "solver: auto\n",
            "standardization: True\n",
            "tol: 1e-06\n"
          ]
        }
      ]
    },
    {
      "cell_type": "markdown",
      "metadata": {
        "id": "LXrSVs0O5v3J"
      },
      "source": [
        "# Saving the model"
      ]
    },
    {
      "cell_type": "code",
      "source": [
        "pipeline_model.save('/content/drive/MyDrive/NYC_taxi_data/lr_model')"
      ],
      "metadata": {
        "id": "NtC_Aes3ymqv"
      },
      "execution_count": 65,
      "outputs": []
    }
  ],
  "metadata": {
    "colab": {
      "provenance": []
    },
    "kernelspec": {
      "display_name": "Python 3",
      "name": "python3"
    },
    "language_info": {
      "name": "python"
    }
  },
  "nbformat": 4,
  "nbformat_minor": 0
}